{
 "cells": [
  {
   "cell_type": "code",
   "execution_count": 6,
   "id": "6f995f28",
   "metadata": {},
   "outputs": [],
   "source": [
    "from pathlib import Path\n",
    "from PIL import Image\n",
    "from tqdm import tqdm\n",
    "import shutil\n",
    "from label_pipeline import InteriorImageClassifier, generate_class_label2ref_images\n",
    "from config import MODEL_NAME, BASE_PROMPT_EN, BASE_PROMPT_RU"
   ]
  },
  {
   "cell_type": "code",
   "execution_count": 2,
   "id": "0ca05cfe",
   "metadata": {},
   "outputs": [],
   "source": [
    "def process_directory(\n",
    "        classifier: InteriorImageClassifier,\n",
    "        image_dir: Path,\n",
    "        output_dir: Path,\n",
    "        ref_images_dir: Path | None = None,\n",
    "        extensions: tuple = (\".jpg\", \".png\", \".jpeg\")\n",
    "    ) -> None:\n",
    "    \"\"\"\n",
    "    Обрабатывает изображения и сортирует по папкам классов\n",
    "    с постепенной записью результатов в CSV.\n",
    "    \"\"\"\n",
    "    output_dir.mkdir(parents=True, exist_ok=True)  # Создаем корневую директорию для результатов\n",
    "    \n",
    "    # Обрабатываем каждое изображение\n",
    "    img_files = [f for f in image_dir.iterdir() if f.suffix.lower() in extensions]\n",
    "    for img_file in tqdm(img_files, desc=\"Обработка изображений\"):\n",
    "        class_label2ref_images = None\n",
    "        if ref_images_dir is not None:\n",
    "            class_label2ref_images = generate_class_label2ref_images(\n",
    "                ref_images_dirpath=ref_images_dir,\n",
    "                max_files_per_class=1\n",
    "            )\n",
    "        image = Image.open(img_file)\n",
    "        result = classifier(image, class_label2ref_images=class_label2ref_images)\n",
    "        \n",
    "        class_dir = output_dir / result[\"class\"]  # Создаем папку класса (A0, A1... ERROR)\n",
    "        class_dir.mkdir(exist_ok=True)\n",
    "        \n",
    "        shutil.copy2(img_file, class_dir / img_file.name)  # Копируем изображение в папку класса\n",
    "    \n",
    "    print(f\"\\nГотово! Результаты в {output_dir}\")"
   ]
  },
  {
   "cell_type": "code",
   "execution_count": 3,
   "id": "609e4f14",
   "metadata": {},
   "outputs": [
    {
     "data": {
      "application/vnd.jupyter.widget-view+json": {
       "model_id": "71f9b7324f0540aea8a9a7305d9c63aa",
       "version_major": 2,
       "version_minor": 0
      },
      "text/plain": [
       "Loading checkpoint shards:   0%|          | 0/5 [00:00<?, ?it/s]"
      ]
     },
     "metadata": {},
     "output_type": "display_data"
    },
    {
     "name": "stderr",
     "output_type": "stream",
     "text": [
      "Using a slow image processor as `use_fast` is unset and a slow processor was saved with this model. `use_fast=True` will be the default behavior in v4.52, even if the model was saved with a slow processor. This will result in minor differences in outputs. You'll still be able to use a slow processor with `use_fast=False`.\n",
      "You have video processor config saved in `preprocessor.json` file which is deprecated. Video processor configs should be saved in their own `video_preprocessor.json` file. You can rename the file or load and save the processor back which renames it automatically. Loading from `preprocessor.json` will be removed in v5.0.\n",
      "Device set to use cuda:0\n"
     ]
    },
    {
     "name": "stdout",
     "output_type": "stream",
     "text": [
      "torch.bfloat16\n"
     ]
    }
   ],
   "source": [
    "# Инициализация классификатора\n",
    "classifier = InteriorImageClassifier(model_name=MODEL_NAME, base_prompt=BASE_PROMPT_EN)\n",
    "print(classifier.pipe.torch_dtype)"
   ]
  },
  {
   "cell_type": "code",
   "execution_count": 4,
   "id": "59986075",
   "metadata": {},
   "outputs": [
    {
     "name": "stdout",
     "output_type": "stream",
     "text": [
      "Директория: /home/little-garden/CodeProjects/InteriorClass\n"
     ]
    }
   ],
   "source": [
    "current_dir = Path.cwd()\n",
    "print(f\"Директория: {current_dir}\")\n",
    "data_dir = current_dir / \"data\"\n",
    "\n",
    "image_dir = data_dir / \"cosmetic/cosmetic+\"\n",
    "output_dir = data_dir / \"labeled_with_few_shot\"\n",
    "ref_images_dir = data_dir / \"reference_images_resized\""
   ]
  },
  {
   "cell_type": "code",
   "execution_count": 5,
   "id": "40fc74c2",
   "metadata": {},
   "outputs": [
    {
     "name": "stderr",
     "output_type": "stream",
     "text": [
      "Обработка изображений:   0%|          | 10/13426 [00:13<4:48:00,  1.29s/it]You seem to be using the pipelines sequentially on GPU. In order to maximize efficiency please use a dataset\n",
      "Обработка изображений: 100%|██████████| 13426/13426 [5:01:55<00:00,  1.35s/it]  "
     ]
    },
    {
     "name": "stdout",
     "output_type": "stream",
     "text": [
      "\n",
      "Готово! Результаты в /home/little-garden/CodeProjects/InteriorClass/data/labeled_with_few_shot\n"
     ]
    },
    {
     "name": "stderr",
     "output_type": "stream",
     "text": [
      "\n"
     ]
    }
   ],
   "source": [
    "process_directory(\n",
    "    classifier=classifier,\n",
    "    image_dir=image_dir,\n",
    "    output_dir=output_dir,\n",
    "    ref_images_dir=ref_images_dir\n",
    ")"
   ]
  }
 ],
 "metadata": {
  "kernelspec": {
   "display_name": "venv3.12",
   "language": "python",
   "name": "python3"
  },
  "language_info": {
   "codemirror_mode": {
    "name": "ipython",
    "version": 3
   },
   "file_extension": ".py",
   "mimetype": "text/x-python",
   "name": "python",
   "nbconvert_exporter": "python",
   "pygments_lexer": "ipython3",
   "version": "3.12.3"
  }
 },
 "nbformat": 4,
 "nbformat_minor": 5
}
