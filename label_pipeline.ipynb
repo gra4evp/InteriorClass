{
 "cells": [
  {
   "cell_type": "code",
   "execution_count": 1,
   "id": "6f995f28",
   "metadata": {},
   "outputs": [],
   "source": [
    "from label_pipeline2 import InteriorClassifier"
   ]
  },
  {
   "cell_type": "code",
   "execution_count": 2,
   "id": "609e4f14",
   "metadata": {},
   "outputs": [
    {
     "data": {
      "application/vnd.jupyter.widget-view+json": {
       "model_id": "4b3f8ebe7a5843ceac931ab9e802d8f1",
       "version_major": 2,
       "version_minor": 0
      },
      "text/plain": [
       "Loading checkpoint shards:   0%|          | 0/5 [00:00<?, ?it/s]"
      ]
     },
     "metadata": {},
     "output_type": "display_data"
    },
    {
     "name": "stderr",
     "output_type": "stream",
     "text": [
      "Using a slow image processor as `use_fast` is unset and a slow processor was saved with this model. `use_fast=True` will be the default behavior in v4.52, even if the model was saved with a slow processor. This will result in minor differences in outputs. You'll still be able to use a slow processor with `use_fast=False`.\n",
      "You have video processor config saved in `preprocessor.json` file which is deprecated. Video processor configs should be saved in their own `video_preprocessor.json` file. You can rename the file or load and save the processor back which renames it automatically. Loading from `preprocessor.json` will be removed in v5.0.\n",
      "Device set to use cuda:0\n"
     ]
    }
   ],
   "source": [
    "# Конфигурация\n",
    "config = {\n",
    "    \"model_name\": \"Qwen/Qwen2.5-VL-7B-Instruct\",\n",
    "    \"image_dir\": \"data/cosmetic/cosmetic\",\n",
    "    \"output_csv\": \"labeled_results.csv\"\n",
    "}\n",
    "\n",
    "# Инициализация классификатора\n",
    "classifier = InteriorClassifier(config[\"model_name\"])"
   ]
  },
  {
   "cell_type": "code",
   "execution_count": 3,
   "id": "9d54b88f",
   "metadata": {},
   "outputs": [
    {
     "ename": "AttributeError",
     "evalue": "'list' object has no attribute 'items'",
     "output_type": "error",
     "traceback": [
      "\u001b[31m---------------------------------------------------------------------------\u001b[39m",
      "\u001b[31mAttributeError\u001b[39m                            Traceback (most recent call last)",
      "\u001b[36mCell\u001b[39m\u001b[36m \u001b[39m\u001b[32mIn[3]\u001b[39m\u001b[32m, line 2\u001b[39m\n\u001b[32m      1\u001b[39m result = classifier.get_model_response(image_path=\u001b[33m\"\u001b[39m\u001b[33m/home/little-garden/CodeProjects/InteriorClass/data/cosmetic/cosmetic+/153001513_5.jpg\u001b[39m\u001b[33m\"\u001b[39m)\n\u001b[32m----> \u001b[39m\u001b[32m2\u001b[39m \u001b[38;5;28;01mfor\u001b[39;00m key, value \u001b[38;5;129;01min\u001b[39;00m \u001b[43mresult\u001b[49m\u001b[43m.\u001b[49m\u001b[43mitems\u001b[49m():\n\u001b[32m      3\u001b[39m     \u001b[38;5;28mprint\u001b[39m(key, value)\n",
      "\u001b[31mAttributeError\u001b[39m: 'list' object has no attribute 'items'"
     ]
    }
   ],
   "source": [
    "result = classifier.get_model_response(image_path=\"/home/little-garden/CodeProjects/InteriorClass/data/cosmetic/cosmetic+/153001513_5.jpg\")\n",
    "for key, value in result.items():\n",
    "    print(key, value)"
   ]
  },
  {
   "cell_type": "code",
   "execution_count": 4,
   "id": "0ca05cfe",
   "metadata": {},
   "outputs": [
    {
     "data": {
      "text/plain": [
       "[{'input_text': [{'role': 'user',\n",
       "    'content': [{'type': 'image',\n",
       "      'image': '/home/little-garden/CodeProjects/InteriorClass/data/cosmetic/cosmetic+/153001513_5.jpg'},\n",
       "     {'type': 'text',\n",
       "      'text': '\\n        Analyze the interior photo and classify its condition. Choose ONLY ONE class from:\\n        - A0: No finish (bare walls, concrete)\\n        - A1: Needs major renovation (severe wear)\\n        - B0: Basic finish (white-box)\\n        - B1: Needs cosmetic repairs\\n        - C0: Good condition\\n        - C1: Excellent condition (with furniture)\\n        - D0: Premium renovation (design project)\\n        - D1: Luxury (exclusive)\\n        Respond STRICTLY with ONLY the class label (e.g. \"C0\").\\n        '}]}],\n",
       "  'generated_text': [{'role': 'user',\n",
       "    'content': [{'type': 'image',\n",
       "      'image': '/home/little-garden/CodeProjects/InteriorClass/data/cosmetic/cosmetic+/153001513_5.jpg'},\n",
       "     {'type': 'text',\n",
       "      'text': '\\n        Analyze the interior photo and classify its condition. Choose ONLY ONE class from:\\n        - A0: No finish (bare walls, concrete)\\n        - A1: Needs major renovation (severe wear)\\n        - B0: Basic finish (white-box)\\n        - B1: Needs cosmetic repairs\\n        - C0: Good condition\\n        - C1: Excellent condition (with furniture)\\n        - D0: Premium renovation (design project)\\n        - D1: Luxury (exclusive)\\n        Respond STRICTLY with ONLY the class label (e.g. \"C0\").\\n        '}]},\n",
       "   {'role': 'assistant', 'content': 'B1'}]}]"
      ]
     },
     "execution_count": 4,
     "metadata": {},
     "output_type": "execute_result"
    }
   ],
   "source": [
    "result"
   ]
  }
 ],
 "metadata": {
  "kernelspec": {
   "display_name": "venv3.12",
   "language": "python",
   "name": "python3"
  },
  "language_info": {
   "codemirror_mode": {
    "name": "ipython",
    "version": 3
   },
   "file_extension": ".py",
   "mimetype": "text/x-python",
   "name": "python",
   "nbconvert_exporter": "python",
   "pygments_lexer": "ipython3",
   "version": "3.12.3"
  }
 },
 "nbformat": 4,
 "nbformat_minor": 5
}
