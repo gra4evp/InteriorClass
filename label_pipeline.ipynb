{
 "cells": [
  {
   "cell_type": "code",
   "execution_count": 1,
   "id": "6f995f28",
   "metadata": {},
   "outputs": [],
   "source": [
    "from pathlib import Path\n",
    "from PIL import Image\n",
    "from tqdm import tqdm\n",
    "import shutil\n",
    "from label_pipeline import InteriorImageClassifier, generate_class_label2ref_images\n",
    "from config import (\n",
    "    MODEL_NAME,\n",
    "    BASE_PROMPT_EN,\n",
    "    BASE_PROMPT_RU,\n",
    "    TRASH_FILTER_PROMPT_EN,\n",
    "    TRASH_FILTER_PROMPT_RU,\n",
    "    A0_ONLY_FILTER_PROMPT_EN,\n",
    "    A0_ONLY_FILTER_PROMPT_RU,\n",
    "    B1_ONLY_FILTER_PROMPT_EN,\n",
    "    B1_ONLY_FILTER_PROMPT_RU,\n",
    "    D0_ONLY_FILTER_PROMPT_EN,\n",
    "    D0_ONLY_FILTER_PROMPT_RU,\n",
    "    D1_ONLY_FILTER_PROMPT_EN,\n",
    "    D1_ONLY_FILTER_PROMPT_RU\n",
    ")"
   ]
  },
  {
   "cell_type": "code",
   "execution_count": 3,
   "id": "0ca05cfe",
   "metadata": {},
   "outputs": [],
   "source": [
    "def process_directory(\n",
    "        classifier: InteriorImageClassifier,\n",
    "        image_dir: Path,\n",
    "        output_dir: Path,\n",
    "        ref_images_dir: Path | None = None,\n",
    "        extensions: tuple = (\".jpg\", \".png\", \".jpeg\")\n",
    "    ) -> None:\n",
    "    \"\"\"\n",
    "    Обрабатывает изображения и сортирует по папкам классов\n",
    "    \"\"\"\n",
    "    output_dir.mkdir(parents=True, exist_ok=True)  # Создаем корневую директорию для результатов\n",
    "    \n",
    "    # Обрабатываем каждое изображение\n",
    "    img_files = [f for f in image_dir.iterdir() if f.suffix.lower() in extensions]\n",
    "    for img_file in tqdm(img_files, desc=\"Обработка изображений\"):\n",
    "        class_label2ref_images = None\n",
    "        if ref_images_dir is not None:\n",
    "            class_label2ref_images = generate_class_label2ref_images(\n",
    "                ref_images_dirpath=ref_images_dir,\n",
    "                max_files_per_class=1\n",
    "            )\n",
    "        image = Image.open(img_file)\n",
    "        result = classifier(image, class_label2ref_images=class_label2ref_images)\n",
    "        \n",
    "        class_dir = output_dir / result[\"class\"]  # Создаем папку класса (A0, A1... ERROR)\n",
    "        class_dir.mkdir(exist_ok=True)\n",
    "        \n",
    "        shutil.copy2(img_file, class_dir / img_file.name)  # Копируем изображение в папку класса\n",
    "    \n",
    "    print(f\"\\nГотово! Результаты в {output_dir}\")\n"
   ]
  },
  {
   "cell_type": "code",
   "execution_count": 4,
   "id": "7bee803e",
   "metadata": {},
   "outputs": [],
   "source": [
    "def process_directory2_for_filtering(\n",
    "        classifier: InteriorImageClassifier,\n",
    "        image_dir: Path,\n",
    "        output_dir: Path,\n",
    "        custom_prompt: str| None = None,\n",
    "        ref_images_dir: Path | None = None,\n",
    "        extensions: tuple = (\".jpg\", \".png\", \".jpeg\")\n",
    "    ) -> None:\n",
    "    \"\"\"\n",
    "    Обрабатывает изображения и сортирует по папкам классов\n",
    "    \"\"\"\n",
    "    output_dir.mkdir(parents=True, exist_ok=True)  # Создаем корневую директорию для результатов\n",
    "    \n",
    "    # Обрабатываем каждое изображение\n",
    "    img_files = [f for f in image_dir.iterdir() if f.suffix.lower() in extensions]\n",
    "    for img_file in tqdm(img_files, desc=\"Обработка изображений\"):\n",
    "        class_label2ref_images = None\n",
    "        if ref_images_dir is not None:\n",
    "            class_label2ref_images = generate_class_label2ref_images(\n",
    "                ref_images_dirpath=ref_images_dir,\n",
    "                max_files_per_class=1\n",
    "            )\n",
    "        image = Image.open(img_file)\n",
    "        result = classifier(image, custom_prompt=custom_prompt)\n",
    "        \n",
    "        if result[\"class\"] != \"D0\":  # trash\n",
    "            shutil.move(img_file, output_dir)\n",
    "        else:\n",
    "            raw_response = result['raw_response'].split()\n",
    "            if len(raw_response) >= 2:\n",
    "                confidence = raw_response[1]\n",
    "                if confidence.isdigit() and int(confidence) <= 8:\n",
    "                    shutil.move(img_file, output_dir)\n",
    "    \n",
    "    print(f\"\\nГотово! Результаты в {output_dir}\")"
   ]
  },
  {
   "cell_type": "code",
   "execution_count": 2,
   "id": "609e4f14",
   "metadata": {},
   "outputs": [
    {
     "data": {
      "application/vnd.jupyter.widget-view+json": {
       "model_id": "dae3fbda0c7441f586d97d14551cd03f",
       "version_major": 2,
       "version_minor": 0
      },
      "text/plain": [
       "Loading checkpoint shards:   0%|          | 0/5 [00:00<?, ?it/s]"
      ]
     },
     "metadata": {},
     "output_type": "display_data"
    },
    {
     "name": "stderr",
     "output_type": "stream",
     "text": [
      "Using a slow image processor as `use_fast` is unset and a slow processor was saved with this model. `use_fast=True` will be the default behavior in v4.52, even if the model was saved with a slow processor. This will result in minor differences in outputs. You'll still be able to use a slow processor with `use_fast=False`.\n",
      "You have video processor config saved in `preprocessor.json` file which is deprecated. Video processor configs should be saved in their own `video_preprocessor.json` file. You can rename the file or load and save the processor back which renames it automatically. Loading from `preprocessor.json` will be removed in v5.0.\n",
      "Device set to use cuda:0\n"
     ]
    },
    {
     "name": "stdout",
     "output_type": "stream",
     "text": [
      "torch.bfloat16\n"
     ]
    }
   ],
   "source": [
    "# Инициализация классификатора\n",
    "classifier = InteriorImageClassifier(model_name=MODEL_NAME, base_prompt=BASE_PROMPT_EN)\n",
    "print(classifier.pipe.torch_dtype)"
   ]
  },
  {
   "cell_type": "code",
   "execution_count": null,
   "id": "5b8833c9",
   "metadata": {},
   "outputs": [],
   "source": [
    "current_dir = Path.cwd()\n",
    "print(f\"Директория: {current_dir}\")\n",
    "data_dir = current_dir / \"data\"\n",
    "\n",
    "image_dir = data_dir / \"cian_data/D0\"\n",
    "output_dir = data_dir / \"cian_data/D0_uncertain\"\n",
    "\n",
    "process_directory2_for_filtering(\n",
    "    classifier=classifier,\n",
    "    image_dir=image_dir,\n",
    "    output_dir=output_dir,\n",
    "    custom_prompt=D0_ONLY_FILTER_PROMPT_EN\n",
    ")"
   ]
  },
  {
   "cell_type": "code",
   "execution_count": null,
   "id": "9582c33e",
   "metadata": {},
   "outputs": [],
   "source": [
    "current_dir = Path.cwd()\n",
    "print(f\"Директория: {current_dir}\")\n",
    "data_dir = current_dir / \"data\"\n",
    "ref_images_dir = data_dir / \"reference_images/resized_448x448/A0\"\n",
    "print(ref_images_dir)\n",
    "\n",
    "class_label2ref_images = generate_class_label2ref_images(\n",
    "    ref_images_dirpath=ref_images_dir,\n",
    "    max_files_per_class=1\n",
    ")\n",
    "class_label2ref_images"
   ]
  },
  {
   "cell_type": "code",
   "execution_count": null,
   "id": "40fc74c2",
   "metadata": {},
   "outputs": [],
   "source": [
    "current_dir = Path.cwd()\n",
    "print(f\"Директория: {current_dir}\")\n",
    "data_dir = current_dir / \"data\"\n",
    "\n",
    "image_dir = data_dir / \"cosmetic/cosmetic-\"\n",
    "output_dir = data_dir / \"labeled_with_few_shot\"\n",
    "ref_images_dir = data_dir / \"reference_images_resized\"\n",
    "\n",
    "process_directory(\n",
    "    classifier=classifier,\n",
    "    image_dir=image_dir,\n",
    "    output_dir=output_dir,\n",
    "    ref_images_dir=ref_images_dir\n",
    ")"
   ]
  },
  {
   "cell_type": "code",
   "execution_count": 4,
   "id": "c0b5428d",
   "metadata": {},
   "outputs": [
    {
     "name": "stdout",
     "output_type": "stream",
     "text": [
      "Директория: /home/little-garden/CodeProjects/InteriorClass\n",
      "/home/little-garden/CodeProjects/InteriorClass/data/cian_data/B1\n"
     ]
    },
    {
     "name": "stderr",
     "output_type": "stream",
     "text": [
      "100%|██████████| 71335/71335 [24:59:23<00:00,  1.26s/it]   "
     ]
    },
    {
     "name": "stdout",
     "output_type": "stream",
     "text": [
      "Total moved: 47700\n"
     ]
    },
    {
     "name": "stderr",
     "output_type": "stream",
     "text": [
      "\n"
     ]
    }
   ],
   "source": [
    "current_dir = Path.cwd()\n",
    "print(f\"Директория: {current_dir}\")\n",
    "data_dir = current_dir / \"data\"\n",
    "cian_data_dir = data_dir / \"cian_data\"\n",
    "cian_data_dir_B1 = cian_data_dir / \"B1\"\n",
    "output_dir = cian_data_dir / \"B1_uncertain\"\n",
    "output_dir.mkdir(exist_ok=True)\n",
    "\n",
    "ref_images_dir = data_dir / \"reference_images\" / \"resized_448x448\"\n",
    "ref_images_dir_B1 = ref_images_dir / \"B1\"\n",
    "max_examples_per_class = 10\n",
    "\n",
    "class_label2ref_images = {'B1': []}\n",
    "for p in ref_images_dir_B1.iterdir():\n",
    "    class_label2ref_images['B1'].append(Image.open(p))\n",
    "\n",
    "\n",
    "# Начало промпта\n",
    "content = [\n",
    "    {\"type\": \"text\", \"text\": B1_ONLY_FILTER_PROMPT_EN},\n",
    "    {\"type\": \"text\", \"text\": \"\\nReference examples:\"}\n",
    "]\n",
    "\n",
    "\n",
    "for class_label, images in class_label2ref_images.items():\n",
    "    if images:\n",
    "        selected_images = images[:max_examples_per_class]\n",
    "        # Добавляем в контент\n",
    "        for image in selected_images:\n",
    "            content.extend([\n",
    "                {\"type\": \"image\", \"image\": image},\n",
    "                {\"type\": \"text\", \"text\": f\"Class: {class_label}\"}\n",
    "            ])\n",
    "\n",
    "print(cian_data_dir_B1)\n",
    "moved = 0\n",
    "extensions = (\".jpg\", \".png\", \".jpeg\")\n",
    "for img_path in tqdm(sorted(cian_data_dir_B1.iterdir())):\n",
    "    if img_path.suffix.lower() not in extensions:\n",
    "        continue\n",
    "    \n",
    "    # Добавляем целевое изображение\n",
    "    target_content = [\n",
    "        {\"type\": \"text\", \"text\": \"\\nNow classify THIS image:\"},\n",
    "        {\"type\": \"image\", \"image\": Image.open(img_path)},\n",
    "        {\"type\": \"text\", \"text\": \"Answer ONLY with class label:\"}\n",
    "    ]\n",
    "    messages = [{\"role\": \"user\", \"content\": content + target_content}]\n",
    "    raw_response = classifier._get_model_response(inputs=messages, max_new_tokens=10)\n",
    "    predicted_class = classifier.parse_model_response(raw_response)\n",
    "\n",
    "    if predicted_class != \"B1\":  # trash\n",
    "        shutil.move(img_path, output_dir)\n",
    "        moved += 1\n",
    "    else:\n",
    "        raw_response = raw_response.split()\n",
    "        if len(raw_response) >= 2:\n",
    "            confidence = raw_response[1]\n",
    "            if confidence.isdigit() and int(confidence) <= 8:\n",
    "                shutil.move(img_path, output_dir)\n",
    "                moved += 1\n",
    "print(f\"Total moved: {moved}\")"
   ]
  },
  {
   "cell_type": "code",
   "execution_count": null,
   "id": "2c928418",
   "metadata": {},
   "outputs": [],
   "source": [
    "current_dir = Path.cwd()\n",
    "print(f\"Директория: {current_dir}\")\n",
    "data_dir = current_dir / \"data\"\n",
    "cian_data_dir = data_dir / \"cian_data\"\n",
    "cian_data_dir_D1 = cian_data_dir / \"D1\"\n",
    "output_dir = cian_data_dir / \"D1_uncertain\"\n",
    "\n",
    "ref_images_dir = data_dir / \"reference_images\" / \"resized_448x448\"\n",
    "ref_images_dir_D1 = ref_images_dir / \"D1\"\n",
    "max_examples_per_class = 10\n",
    "\n",
    "class_label2ref_images = {'D1': []}\n",
    "for p in ref_images_dir_D1.iterdir():\n",
    "    class_label2ref_images['D1'].append(Image.open(p))\n",
    "\n",
    "\n",
    "# Начало промпта\n",
    "content = [\n",
    "    {\"type\": \"text\", \"text\": D1_ONLY_FILTER_PROMPT_EN},\n",
    "    {\"type\": \"text\", \"text\": \"\\nReference examples:\"}\n",
    "]\n",
    "\n",
    "\n",
    "for class_label, images in class_label2ref_images.items():\n",
    "    if images:\n",
    "        selected_images = images[:max_examples_per_class]\n",
    "        # Добавляем в контент\n",
    "        for image in selected_images:\n",
    "            content.extend([\n",
    "                {\"type\": \"image\", \"image\": image},\n",
    "                {\"type\": \"text\", \"text\": f\"Class: {class_label}\"}\n",
    "            ])\n",
    "\n",
    "print(cian_data_dir_D1)\n",
    "moved = 0\n",
    "for img_path in tqdm(sorted(cian_data_dir_D1.iterdir())):\n",
    "    # Добавляем целевое изображение\n",
    "    target_content = [\n",
    "        {\"type\": \"text\", \"text\": \"\\nNow classify THIS image:\"},\n",
    "        {\"type\": \"image\", \"image\": Image.open(img_path)},\n",
    "        {\"type\": \"text\", \"text\": \"Answer ONLY with class label:\"}\n",
    "    ]\n",
    "    messages = [{\"role\": \"user\", \"content\": content + target_content}]\n",
    "    raw_response = classifier._get_model_response(inputs=messages, max_new_tokens=10)\n",
    "    predicted_class = classifier.parse_model_response(raw_response)\n",
    "\n",
    "    if predicted_class != \"D1\":  # trash\n",
    "        shutil.move(img_path, output_dir)\n",
    "        moved += 1\n",
    "    else:\n",
    "        raw_response = raw_response.split()\n",
    "        if len(raw_response) >= 2:\n",
    "            confidence = raw_response[1]\n",
    "            if confidence.isdigit() and int(confidence) <= 8:\n",
    "                shutil.move(img_path, output_dir)\n",
    "                moved += 1\n",
    "print(f\"Total moved: {moved}\")"
   ]
  }
 ],
 "metadata": {
  "kernelspec": {
   "display_name": "venv3.12",
   "language": "python",
   "name": "python3"
  },
  "language_info": {
   "codemirror_mode": {
    "name": "ipython",
    "version": 3
   },
   "file_extension": ".py",
   "mimetype": "text/x-python",
   "name": "python",
   "nbconvert_exporter": "python",
   "pygments_lexer": "ipython3",
   "version": "3.12.3"
  }
 },
 "nbformat": 4,
 "nbformat_minor": 5
}
