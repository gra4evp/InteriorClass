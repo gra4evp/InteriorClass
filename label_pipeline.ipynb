{
 "cells": [
  {
   "cell_type": "code",
   "execution_count": 1,
   "id": "6f995f28",
   "metadata": {},
   "outputs": [],
   "source": [
    "from label_pipeline2 import InteriorClassifier, generate_class_label2ref_images\n",
    "from config import MODEL_NAME, BASE_PROMPT_EN, BASE_PROMPT_RU\n",
    "import os\n",
    "from pathlib import Path"
   ]
  },
  {
   "cell_type": "code",
   "execution_count": 29,
   "id": "6e092089",
   "metadata": {},
   "outputs": [
    {
     "name": "stdout",
     "output_type": "stream",
     "text": [
      "Директория: /home/little-garden/CodeProjects/InteriorClass\n",
      "A0 ['/home/little-garden/CodeProjects/InteriorClass/data/reference_images/A0/A0_07.jpg', '/home/little-garden/CodeProjects/InteriorClass/data/reference_images/A0/A0_09.jpg']\n",
      "A1 ['/home/little-garden/CodeProjects/InteriorClass/data/reference_images/A1/A1_02.jpg', '/home/little-garden/CodeProjects/InteriorClass/data/reference_images/A1/A1_06.jpg']\n",
      "B0 ['/home/little-garden/CodeProjects/InteriorClass/data/reference_images/B0/B0_09.jpg', '/home/little-garden/CodeProjects/InteriorClass/data/reference_images/B0/B0_10.png']\n",
      "B1 ['/home/little-garden/CodeProjects/InteriorClass/data/reference_images/B1/B1_02.jpg', '/home/little-garden/CodeProjects/InteriorClass/data/reference_images/B1/B1_10.jpg']\n",
      "C0 ['/home/little-garden/CodeProjects/InteriorClass/data/reference_images/C0/С0_03.jpg', '/home/little-garden/CodeProjects/InteriorClass/data/reference_images/C0/С0_09.jpg']\n",
      "C1 ['/home/little-garden/CodeProjects/InteriorClass/data/reference_images/C1/С1_02.jpg', '/home/little-garden/CodeProjects/InteriorClass/data/reference_images/C1/С1_09.jpg']\n",
      "D0 ['/home/little-garden/CodeProjects/InteriorClass/data/reference_images/D0/D0_02.jpg', '/home/little-garden/CodeProjects/InteriorClass/data/reference_images/D0/D0_09.jpg']\n",
      "D1 ['/home/little-garden/CodeProjects/InteriorClass/data/reference_images/D1/D1_02.jpg', '/home/little-garden/CodeProjects/InteriorClass/data/reference_images/D1/D1_03.jpg']\n"
     ]
    }
   ],
   "source": [
    "current_dirpath = Path.cwd()\n",
    "print(f\"Директория: {current_dirpath}\")\n",
    "ref_images_dirpth = current_dirpath / \"data/reference_images\"\n",
    "class_label2ref_images = generate_class_label2ref_images(\n",
    "    ref_images_dirpath=ref_images_dirpth,\n",
    "    max_files_per_class=2\n",
    ")\n",
    "for class_label, filepaths in class_label2ref_images.items():\n",
    "    print(class_label, filepaths)"
   ]
  },
  {
   "cell_type": "code",
   "execution_count": 2,
   "id": "609e4f14",
   "metadata": {},
   "outputs": [
    {
     "data": {
      "application/vnd.jupyter.widget-view+json": {
       "model_id": "8424cdc354f44ed08dc5a2195e5b4896",
       "version_major": 2,
       "version_minor": 0
      },
      "text/plain": [
       "Loading checkpoint shards:   0%|          | 0/5 [00:00<?, ?it/s]"
      ]
     },
     "metadata": {},
     "output_type": "display_data"
    },
    {
     "name": "stderr",
     "output_type": "stream",
     "text": [
      "Using a slow image processor as `use_fast` is unset and a slow processor was saved with this model. `use_fast=True` will be the default behavior in v4.52, even if the model was saved with a slow processor. This will result in minor differences in outputs. You'll still be able to use a slow processor with `use_fast=False`.\n",
      "You have video processor config saved in `preprocessor.json` file which is deprecated. Video processor configs should be saved in their own `video_preprocessor.json` file. You can rename the file or load and save the processor back which renames it automatically. Loading from `preprocessor.json` will be removed in v5.0.\n",
      "Device set to use cuda:0\n"
     ]
    }
   ],
   "source": [
    "# Инициализация классификатора\n",
    "classifier = InteriorClassifier(model_name=MODEL_NAME, base_prompt=BASE_PROMPT_EN)"
   ]
  },
  {
   "cell_type": "code",
   "execution_count": 7,
   "id": "9d54b88f",
   "metadata": {},
   "outputs": [
    {
     "name": "stdout",
     "output_type": "stream",
     "text": [
      "B1\n"
     ]
    }
   ],
   "source": [
    "response_content = classifier.get_model_response(image_path=\"/home/little-garden/CodeProjects/InteriorClass/data/cosmetic/cosmetic+/153001513_5.jpg\")\n",
    "print(response_content)"
   ]
  },
  {
   "cell_type": "code",
   "execution_count": 3,
   "id": "0ca05cfe",
   "metadata": {},
   "outputs": [
    {
     "name": "stderr",
     "output_type": "stream",
     "text": [
      "Обработка изображений:   0%|          | 10/13426 [00:04<1:23:57,  2.66it/s]You seem to be using the pipelines sequentially on GPU. In order to maximize efficiency please use a dataset\n",
      "Обработка изображений: 100%|██████████| 13426/13426 [1:31:52<00:00,  2.44it/s]"
     ]
    },
    {
     "name": "stdout",
     "output_type": "stream",
     "text": [
      "\n",
      "Готово! Результаты в /home/little-garden/CodeProjects/InteriorClass/data/labeled\n"
     ]
    },
    {
     "name": "stderr",
     "output_type": "stream",
     "text": [
      "\n"
     ]
    }
   ],
   "source": [
    "classifier.process_directory(\n",
    "    image_dir=\"/home/little-garden/CodeProjects/InteriorClass/data/cosmetic/cosmetic+\",\n",
    "    output_dir=\"/home/little-garden/CodeProjects/InteriorClass/data/labeled\",\n",
    ")"
   ]
  }
 ],
 "metadata": {
  "kernelspec": {
   "display_name": "venv3.12",
   "language": "python",
   "name": "python3"
  },
  "language_info": {
   "codemirror_mode": {
    "name": "ipython",
    "version": 3
   },
   "file_extension": ".py",
   "mimetype": "text/x-python",
   "name": "python",
   "nbconvert_exporter": "python",
   "pygments_lexer": "ipython3",
   "version": "3.12.3"
  }
 },
 "nbformat": 4,
 "nbformat_minor": 5
}
