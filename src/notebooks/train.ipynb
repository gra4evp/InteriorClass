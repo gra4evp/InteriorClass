{
 "cells": [
  {
   "cell_type": "code",
   "execution_count": 1,
   "metadata": {},
   "outputs": [],
   "source": [
    "from pathlib import Path\n",
    "import sys\n",
    "import json\n",
    "\n",
    "\n",
    "# Поднимаемся на два уровня вверх (из notebooks/ в InteriorClass/)\n",
    "project_root = Path.cwd().parent.parent\n",
    "sys.path.append(str(project_root))  # Теперь Python увидит src/\n",
    "\n",
    "\n",
    "from tqdm import tqdm\n",
    "import torch\n",
    "from torch import nn, optim\n",
    "from torch.utils.data import DataLoader\n",
    "from sklearn.metrics import classification_report\n",
    "import torchvision.transforms as transforms\n",
    "from PIL import Image\n",
    "\n",
    "from src.config import RANDOM_SEED, SPLIT_RATIO, MIN_VAL_TEST_PER_CLASS, CLASS_LABELS\n",
    "from src.dataset.splitter import DatasetSplitter\n",
    "from src.dataset.interior_dataset import InteriorDataset, get_transforms\n",
    "from src.models.interior_classifier_EfficientNet_B3 import InteriorClassifier\n",
    "from src.trainer import Trainer\n"
   ]
  },
  {
   "cell_type": "code",
   "execution_count": 2,
   "metadata": {},
   "outputs": [],
   "source": [
    "# 1. Define hyperparameters\n",
    "DEVICE = torch.device(\"cuda\" if torch.cuda.is_available() else \"cpu\")\n",
    "BATCH_SIZE = 32\n",
    "EPOCHS = 10\n",
    "LR = 3e-5\n",
    "IMG_SIZE = 380  # Для EfficientNet-B3\n",
    "EXP_NUMBER = 4"
   ]
  },
  {
   "cell_type": "code",
   "execution_count": 3,
   "metadata": {},
   "outputs": [
    {
     "name": "stdout",
     "output_type": "stream",
     "text": [
      "data_dir: /home/little-garden/CodeProjects/InteriorClass/data\n"
     ]
    },
    {
     "name": "stderr",
     "output_type": "stream",
     "text": [
      "Collecting samples...: 100%|██████████| 9/9 [00:00<00:00,  9.70it/s]"
     ]
    },
    {
     "name": "stdout",
     "output_type": "stream",
     "text": [
      "Total samples: 54591\n"
     ]
    },
    {
     "name": "stderr",
     "output_type": "stream",
     "text": [
      "\n"
     ]
    }
   ],
   "source": [
    "# 2. Define paths\n",
    "notebook_dir = Path.cwd()\n",
    "project_root = notebook_dir.parent.parent\n",
    "data_dir = project_root / \"data\"\n",
    "print(f\"data_dir: {data_dir}\")\n",
    "\n",
    "dataset_dir = data_dir / \"interior_dataset\"\n",
    "\n",
    "samples = InteriorDataset.collect_samples(dataset_dir=dataset_dir)\n",
    "print(f\"Total samples: {len(samples)}\")"
   ]
  },
  {
   "cell_type": "code",
   "execution_count": 4,
   "metadata": {},
   "outputs": [
    {
     "name": "stdout",
     "output_type": "stream",
     "text": [
      "Train samples: 47649\n",
      "Val samples: 3464\n",
      "Test samples: 3478\n"
     ]
    }
   ],
   "source": [
    "# 3. Create DatasetSplitter\n",
    "splitter = DatasetSplitter(\n",
    "    class_labels=CLASS_LABELS,\n",
    "    split_config=SPLIT_RATIO,\n",
    "    random_seed=RANDOM_SEED\n",
    ")\n",
    "\n",
    "\n",
    "train_samples, val_samples, test_samples = splitter.split(samples, shuffle=True)\n",
    "print(f\"Train samples: {len(train_samples)}\")\n",
    "print(f\"Val samples: {len(val_samples)}\")\n",
    "print(f\"Test samples: {len(test_samples)}\")\n",
    "\n",
    "# 4. Create Datasets\n",
    "train_dataset = InteriorDataset(\n",
    "    train_samples,\n",
    "    transform=get_transforms(img_size=IMG_SIZE, mode='train'),\n",
    "    mode='train'\n",
    ")\n",
    "\n",
    "val_dataset = InteriorDataset(\n",
    "    val_samples,\n",
    "    transform=get_transforms(img_size=IMG_SIZE, mode='val'),\n",
    "    mode='val'\n",
    ")\n",
    "\n",
    "test_dataset = InteriorDataset(\n",
    "    test_samples,\n",
    "    transform=get_transforms(img_size=IMG_SIZE, mode='test'),\n",
    "    mode='test'\n",
    ")\n",
    "\n",
    "\n",
    "# 5. Create DataLoaders\n",
    "train_loader = DataLoader(\n",
    "    dataset=train_dataset,\n",
    "    batch_size=BATCH_SIZE,\n",
    "    shuffle=True,\n",
    "    num_workers=4,\n",
    "    pin_memory=True,\n",
    "    drop_last=True\n",
    ")\n",
    "\n",
    "val_loader = DataLoader(\n",
    "    dataset=val_dataset,\n",
    "    batch_size=BATCH_SIZE,\n",
    "    shuffle=False,\n",
    "    num_workers=4,\n",
    "    pin_memory=True\n",
    ")\n",
    "\n",
    "test_loader = DataLoader(\n",
    "    dataset=test_dataset,\n",
    "    batch_size=BATCH_SIZE,\n",
    "    shuffle=False,\n",
    "    num_workers=4,\n",
    "    pin_memory=True\n",
    ")"
   ]
  },
  {
   "cell_type": "code",
   "execution_count": 5,
   "metadata": {},
   "outputs": [
    {
     "name": "stdout",
     "output_type": "stream",
     "text": [
      "Loaded checkpoint from: checkpoint.pth\n",
      "Successfully loaded checkpoint (epoch 7)\n"
     ]
    }
   ],
   "source": [
    "# 6. Initializing model\n",
    "model = InteriorClassifier(num_classes=len(CLASS_LABELS)).to(DEVICE)\n",
    "criterion = nn.CrossEntropyLoss()\n",
    "optimizer = optim.AdamW(model.parameters(), lr=LR)\n",
    "scheduler = optim.lr_scheduler.CosineAnnealingLR(optimizer, T_max=EPOCHS)\n",
    "\n",
    "experiments_dir = project_root / \"experiments\"\n",
    "exp_dir = experiments_dir / f\"exp{EXP_NUMBER:03d}\"\n",
    "exp_results_dir = exp_dir / \"results\"\n",
    "exp_results_dir.mkdir(parents=True, exist_ok=True)\n",
    "\n",
    "def load_latest_file(pattern: str) -> Path | None:\n",
    "    \"\"\"Находит самый свежий файл по паттерну\"\"\"\n",
    "    files = list(exp_results_dir.glob(pattern))\n",
    "    if not files:\n",
    "        return None\n",
    "    # Сортируем по дате изменения (новейший первый)\n",
    "    files.sort(key=lambda x: x.stat().st_mtime, reverse=True)\n",
    "    return files[0]\n",
    "\n",
    "# Пытаемся загрузить чекпоинт\n",
    "checkpoint_path = load_latest_file(\"ckpt*\")\n",
    "if checkpoint_path:\n",
    "    try:\n",
    "        checkpoint = torch.load(checkpoint_path, map_location=DEVICE)\n",
    "        print(f\"Loaded checkpoint from: {checkpoint_path.name}\")\n",
    "        \n",
    "        model.load_state_dict(checkpoint['model_state_dict'])\n",
    "        if 'optimizer_state_dict' in checkpoint:\n",
    "            optimizer.load_state_dict(checkpoint['optimizer_state_dict'])\n",
    "        \n",
    "        print(f\"Successfully loaded checkpoint (epoch {checkpoint.get('epoch', 'unknown')})\")\n",
    "    except Exception as e:\n",
    "        print(f\"Error loading checkpoint {checkpoint_path}: {str(e)}\")\n",
    "        checkpoint_path = None\n",
    "\n",
    "# Если чекпоинта нет, пробуем загрузить полную модель\n",
    "if not checkpoint_path:\n",
    "    model_path = load_latest_file(\"model*\")\n",
    "    if model_path:\n",
    "        try:\n",
    "            # Для полной модели не нужен load_state_dict\n",
    "            model = torch.load(model_path, map_location=DEVICE)\n",
    "            print(f\"Successfully loaded full model from: {model_path.name}\")\n",
    "        except Exception as e:\n",
    "            print(f\"Error loading model {model_path}: {str(e)}\")\n",
    "            model_path = None\n",
    "\n",
    "# Если ничего не загрузилось - исключение\n",
    "if not checkpoint_path and not model_path:\n",
    "    available_files = [f.name for f in exp_results_dir.iterdir() if f.is_file()]\n",
    "    raise FileNotFoundError(\n",
    "        f\"No valid checkpoint or model found in {exp_results_dir}\\n\"\n",
    "        f\"Available files: {available_files or 'None'}\"\n",
    "    )\n",
    "\n",
    "# 7. Creating Trainer\n",
    "trainer = Trainer(\n",
    "    model=model,\n",
    "    criterion=criterion,\n",
    "    optimizer=optimizer,\n",
    "    sheduler=scheduler,\n",
    "    train_loader=train_loader,\n",
    "    val_loader=val_loader,\n",
    "    test_loader=test_loader,\n",
    "    epochs=EPOCHS,\n",
    "    device=DEVICE,\n",
    "    exp_results_dir=exp_results_dir\n",
    "\n",
    ")"
   ]
  },
  {
   "cell_type": "code",
   "execution_count": 6,
   "metadata": {},
   "outputs": [
    {
     "name": "stdout",
     "output_type": "stream",
     "text": [
      "/home/little-garden/CodeProjects/InteriorClass/experiments/exp004/results/model.pth\n"
     ]
    }
   ],
   "source": [
    "trainer.save_model()"
   ]
  },
  {
   "cell_type": "code",
   "execution_count": null,
   "metadata": {},
   "outputs": [],
   "source": [
    "test_report = trainer.test()"
   ]
  },
  {
   "cell_type": "code",
   "execution_count": 13,
   "metadata": {},
   "outputs": [],
   "source": [
    "log_path = exp_results_dir / \"training_log.json\""
   ]
  },
  {
   "cell_type": "code",
   "execution_count": 14,
   "metadata": {},
   "outputs": [],
   "source": [
    "if log_path.exists():\n",
    "    with open(log_path, \"r\") as f:\n",
    "        log_dict = json.load(f)"
   ]
  },
  {
   "cell_type": "code",
   "execution_count": null,
   "metadata": {},
   "outputs": [],
   "source": [
    "test_report"
   ]
  },
  {
   "cell_type": "code",
   "execution_count": 17,
   "metadata": {},
   "outputs": [],
   "source": [
    "log_dict['test_report'] = test_report"
   ]
  },
  {
   "cell_type": "code",
   "execution_count": 18,
   "metadata": {},
   "outputs": [],
   "source": [
    "with open(log_path, \"w\") as f:\n",
    "    json.dump(log_dict, f, indent=4)"
   ]
  },
  {
   "cell_type": "code",
   "execution_count": null,
   "metadata": {},
   "outputs": [],
   "source": [
    "# Пути для сохранения результатов\n",
    "exp_dir = root_project / Path(\"experiments/exp001_baseline/results\")\n",
    "exp_dir.mkdir(parents=True, exist_ok=True)\n",
    "\n",
    "# Файлы для сохранения\n",
    "checkpoint_path = exp_dir / \"best_model.pth\"\n",
    "log_path = exp_dir / \"training_log.json\"\n",
    "\n",
    "# Инициализация лога\n",
    "if log_path.exists():\n",
    "    with open(log_path, \"r\") as f:\n",
    "        log = json.load(f)\n",
    "    best_val_loss = log.get(\"best_val_loss\", float(\"inf\"))\n",
    "else:\n",
    "    log = {\"train_loss\": [], \"val_loss\": [], \"val_accuracy\": [], \"best_val_loss\": float(\"inf\")}\n",
    "    best_val_loss = float(\"inf\")\n",
    "\n",
    "\n",
    "# Модель и оптимизатор\n",
    "device = torch.device(\"cuda\" if torch.cuda.is_available() else \"cpu\")\n",
    "model = InteriorClassifier(num_classes=len(InteriorDataset.CLASSES)).to(device)\n",
    "\n",
    "checkpoint = torch.load(checkpoint_path)\n",
    "model.load_state_dict(checkpoint['model_state_dict'])\n",
    "\n",
    "# Финальная оценка на тестовом наборе\n",
    "model.eval()\n",
    "test_preds, test_labels = [], []\n",
    "\n",
    "test_bar = tqdm(\n",
    "    test_loader, \n",
    "    desc='Final Testing',\n",
    "    bar_format='{l_bar}{bar:20}{r_bar}{bar:-20b}'\n",
    ")\n",
    "\n",
    "with torch.no_grad():\n",
    "    for inputs, labels in test_bar:\n",
    "        inputs = inputs.to(device)\n",
    "        outputs = model(inputs)\n",
    "        _, preds = torch.max(outputs, 1)\n",
    "        \n",
    "        test_preds.extend(preds.cpu().numpy())\n",
    "        test_labels.extend(labels.cpu().numpy())\n",
    "\n",
    "# Компактный финальный отчет\n",
    "print(\"\\nFinal Test Results:\")\n",
    "final_report = classification_report(\n",
    "    test_labels, test_preds,\n",
    "    target_names=InteriorDataset.CLASSES,\n",
    "    digits=4,\n",
    "    output_dict=True\n",
    ")\n",
    "\n",
    "test_accuracy = final_report['accuracy']\n",
    "print(f\"Test Accuracy: {test_accuracy:.4f}\")\n",
    "print(\n",
    "    f\"Macro Avg: P={final_report['macro avg']['precision']:.4f} \"\n",
    "    f\"R={final_report['macro avg']['recall']:.4f} \"\n",
    "    f\"F1={final_report['macro avg']['f1-score']:.4f}\"\n",
    ")\n",
    "\n",
    "# Сохраняем финальные результаты в лог\n",
    "log[\"test_accuracy\"] = test_accuracy\n",
    "log[\"test_report\"] = final_report\n",
    "with open(log_path, \"w\") as f:\n",
    "    json.dump(log, f, indent=4)\n"
   ]
  },
  {
   "cell_type": "code",
   "execution_count": 5,
   "metadata": {},
   "outputs": [],
   "source": [
    "def prepare_image(image_path, img_size=(224, 224)):\n",
    "    # Трансформы должны быть такими же, как при обучении!\n",
    "    transform = transforms.Compose([\n",
    "        transforms.Resize(img_size),\n",
    "        transforms.ToTensor(),\n",
    "        transforms.Normalize(mean=[0.485, 0.456, 0.406], std=[0.229, 0.224, 0.225])\n",
    "    ])\n",
    "    \n",
    "    img = Image.open(image_path).convert(\"RGB\")  # Обязательно конвертируем в RGB\n",
    "    return transform(img).unsqueeze(0)  # Добавляем batch-размерность"
   ]
  },
  {
   "cell_type": "code",
   "execution_count": null,
   "metadata": {},
   "outputs": [],
   "source": [
    "# device = torch.device(\"cuda\" if torch.cuda.is_available() else \"cpu\")\n",
    "device = 'cpu'\n",
    "model = InteriorClassifier(num_classes=len(InteriorDataset.CLASSES)).to(device)\n",
    "\n",
    "exp_dir = root_project / Path(\"experiments/exp001_baseline/results\")\n",
    "checkpoint_path = exp_dir / \"best_model.pth\"\n",
    "checkpoint = torch.load(checkpoint_path)\n",
    "model.load_state_dict(checkpoint['model_state_dict'])\n",
    "\n",
    "# Финальная оценка на тестовом наборе\n",
    "model.eval()\n",
    "class_idx2image_path = {}\n",
    "for image_path, class_idx in test_samples:\n",
    "    if class_idx not in class_idx2image_path:\n",
    "        class_idx2image_path[class_idx] = image_path\n",
    "\n",
    "print(*class_idx2image_path.items(), sep='\\n', end='\\n\\n')\n",
    "\n",
    "# input_tensor = prepare_image(image_path).to(device)\n",
    "\n",
    "# print(input_tensor.shape)\n",
    "\n",
    "with torch.no_grad():  # Отключаем вычисление градиентов\n",
    "    for class_idx, image_path in class_idx2image_path.items():\n",
    "        image = prepare_image(image_path).to(device)\n",
    "        outputs = model(image)\n",
    "        probabilities = torch.nn.functional.softmax(outputs, dim=1)\n",
    "        predicted_class = torch.argmax(probabilities).item()\n",
    "        \n",
    "        # probabilities = [p for p in probabilities[0]]\n",
    "        print(f\"File: {image_path} | class_idx={class_idx}\")\n",
    "        print(f\"Probabilities: {[round(float(p), 4) for p in probabilities[0]]}\", end='\\n')\n",
    "        print(f\"Predicted class: {predicted_class} ({InteriorDataset.CLASSES[predicted_class]}) | Confidence: {probabilities[0][predicted_class].item():.4f}\\n\\n\")"
   ]
  },
  {
   "cell_type": "code",
   "execution_count": null,
   "metadata": {},
   "outputs": [],
   "source": [
    "B1_path_test_image = dataset_dir / \"B1\"/ \"B1_13070_56d9.jpg\"\n",
    "with torch.no_grad():  # Отключаем вычисление градиентов\n",
    "    image = prepare_image(B1_path_test_image).to(device)\n",
    "    outputs = model(image)\n",
    "    probabilities = torch.nn.functional.softmax(outputs, dim=1)\n",
    "    predicted_class = torch.argmax(probabilities).item()\n",
    "\n",
    "    print(f\"File: {B1_path_test_image} | class_idx={class_idx}\")\n",
    "    print(f\"Probabilities: {[round(float(p), 4) for p in probabilities[0]]}\", end='\\n')\n",
    "    print(f\"Predicted class: {predicted_class} ({InteriorDataset.CLASSES[predicted_class]}) | Confidence: {probabilities[0][predicted_class].item():.4f}\\n\\n\")"
   ]
  },
  {
   "cell_type": "code",
   "execution_count": null,
   "metadata": {},
   "outputs": [],
   "source": [
    "for p, idx in test_samples:\n",
    "    if idx == 3:\n",
    "        print(p, idx)"
   ]
  }
 ],
 "metadata": {
  "kernelspec": {
   "display_name": "venv3.12",
   "language": "python",
   "name": "python3"
  },
  "language_info": {
   "codemirror_mode": {
    "name": "ipython",
    "version": 3
   },
   "file_extension": ".py",
   "mimetype": "text/x-python",
   "name": "python",
   "nbconvert_exporter": "python",
   "pygments_lexer": "ipython3",
   "version": "3.12.3"
  }
 },
 "nbformat": 4,
 "nbformat_minor": 2
}
