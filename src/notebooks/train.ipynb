{
 "cells": [
  {
   "cell_type": "code",
   "execution_count": 1,
   "metadata": {},
   "outputs": [],
   "source": [
    "from pathlib import Path\n",
    "import sys\n",
    "import json\n",
    "\n",
    "\n",
    "# Поднимаемся на два уровня вверх (из notebooks/ в InteriorClass/)\n",
    "project_root = Path.cwd().parent.parent\n",
    "sys.path.append(str(project_root))  # Теперь Python увидит src/\n",
    "\n",
    "\n",
    "import torch\n",
    "from src.config import RANDOM_SEED, SPLIT_CONFIG, MIN_VAL_TEST_PER_CLASS, CLASS_LABELS\n",
    "from src.schemas.configs import ExperimentConfig\n",
    "from src.experiment import Experiment\n"
   ]
  },
  {
   "cell_type": "code",
   "execution_count": 2,
   "metadata": {},
   "outputs": [
    {
     "name": "stdout",
     "output_type": "stream",
     "text": [
      "data_dir: /home/little-garden/CodeProjects/InteriorClass/data\n"
     ]
    },
    {
     "name": "stderr",
     "output_type": "stream",
     "text": [
      "Collecting samples...: 100%|██████████| 8/8 [00:00<00:00, 14.64it/s]\n"
     ]
    },
    {
     "name": "stdout",
     "output_type": "stream",
     "text": [
      "Total samples: 45724\n",
      "Train samples: 41745\n",
      "Val samples: 1983\n",
      "Test samples: 1996\n"
     ]
    }
   ],
   "source": [
    "# 1. =========================== Define hyperparameters ===========================\n",
    "EXP_NUMBER = 16\n",
    "BATCH_SIZE = 32\n",
    "EPOCHS = 10\n",
    "START_LR = 3e-5\n",
    "IMG_SIZE = 448\n",
    "DEVICE = \"cuda\" if torch.cuda.is_available() else \"cpu\"\n",
    "\n",
    "\n",
    "# 2. ================================ Define paths =================================\n",
    "data_dir = project_root / \"data\"\n",
    "print(f\"data_dir: {data_dir}\")\n",
    "dataset_dir = data_dir / \"interior_dataset\"\n",
    "\n",
    "exp_dir = project_root / \"experiments\" / f\"exp{EXP_NUMBER:03d}\"\n",
    "\n",
    "exp = Experiment(\n",
    "    dataset_dir=dataset_dir,\n",
    "    exp_dir=exp_dir,\n",
    "    class_labels=CLASS_LABELS,\n",
    "    splits=SPLIT_CONFIG,\n",
    "    exp_number=EXP_NUMBER,\n",
    "    batch_size=BATCH_SIZE,\n",
    "    epochs=EPOCHS,\n",
    "    img_size=IMG_SIZE,\n",
    "    start_lr=START_LR,\n",
    "    random_seed=RANDOM_SEED,\n",
    "    device=DEVICE\n",
    ")"
   ]
  },
  {
   "cell_type": "code",
   "execution_count": 4,
   "metadata": {},
   "outputs": [],
   "source": [
    "import shutil\n",
    "from pathlib import Path\n",
    "from typing import List\n",
    "from src.schemas.types import SampleItem\n",
    "\n",
    "def copy_test_dataset(test_samples: List[SampleItem], output_dir: Path) -> None:\n",
    "    \"\"\"\n",
    "    Копирует все изображения из test_samples в output_dir/test_dataset/\n",
    "    \n",
    "    Args:\n",
    "        test_samples: список SampleItem из test_dataset\n",
    "        output_dir: корневая директория для копирования (например, Path('/home/little-garden/CodeProjects/InteriorClass/data/interior_dataset/'))\n",
    "    \"\"\"\n",
    "    # Создаем папку test_dataset\n",
    "    test_dataset_dir = output_dir / \"test_dataset\"\n",
    "    test_dataset_dir.mkdir(exist_ok=True)\n",
    "    \n",
    "    print(f\"Копирую {len(test_samples)} файлов в {test_dataset_dir}\")\n",
    "    \n",
    "    for i, sample in enumerate(test_samples):\n",
    "        # Получаем относительный путь от корневой директории\n",
    "        relative_path = sample.filepath.relative_to(output_dir)\n",
    "        \n",
    "        # Создаем путь назначения\n",
    "        dest_path = test_dataset_dir / relative_path\n",
    "        \n",
    "        # Создаем папки если нужно\n",
    "        dest_path.parent.mkdir(parents=True, exist_ok=True)\n",
    "        \n",
    "        # Копируем файл\n",
    "        shutil.copy2(sample.filepath, dest_path)\n",
    "        \n",
    "        if (i + 1) % 100 == 0:\n",
    "            print(f\"Скопировано {i + 1}/{len(test_samples)} файлов\")\n",
    "    \n",
    "    print(f\"Готово! Все файлы скопированы в {test_dataset_dir}\")\n"
   ]
  },
  {
   "cell_type": "code",
   "execution_count": 5,
   "metadata": {},
   "outputs": [
    {
     "name": "stdout",
     "output_type": "stream",
     "text": [
      "Копирую 1996 файлов в /home/little-garden/CodeProjects/InteriorClass/data/interior_dataset/test_dataset\n",
      "Скопировано 100/1996 файлов\n",
      "Скопировано 200/1996 файлов\n",
      "Скопировано 300/1996 файлов\n",
      "Скопировано 400/1996 файлов\n",
      "Скопировано 500/1996 файлов\n",
      "Скопировано 600/1996 файлов\n",
      "Скопировано 700/1996 файлов\n",
      "Скопировано 800/1996 файлов\n",
      "Скопировано 900/1996 файлов\n",
      "Скопировано 1000/1996 файлов\n",
      "Скопировано 1100/1996 файлов\n",
      "Скопировано 1200/1996 файлов\n",
      "Скопировано 1300/1996 файлов\n",
      "Скопировано 1400/1996 файлов\n",
      "Скопировано 1500/1996 файлов\n",
      "Скопировано 1600/1996 файлов\n",
      "Скопировано 1700/1996 файлов\n",
      "Скопировано 1800/1996 файлов\n",
      "Скопировано 1900/1996 файлов\n",
      "Готово! Все файлы скопированы в /home/little-garden/CodeProjects/InteriorClass/data/interior_dataset/test_dataset\n"
     ]
    }
   ],
   "source": [
    "# Получи test_samples из твоего эксперимента\n",
    "test_samples = exp.test_dataset.sample_items\n",
    "\n",
    "# Скопируй файлы\n",
    "copy_test_dataset(\n",
    "    test_samples=test_samples,\n",
    "    output_dir=Path('/home/little-garden/CodeProjects/InteriorClass/data/interior_dataset/')\n",
    ")"
   ]
  }
 ],
 "metadata": {
  "kernelspec": {
   "display_name": "venv3.12",
   "language": "python",
   "name": "python3"
  },
  "language_info": {
   "codemirror_mode": {
    "name": "ipython",
    "version": 3
   },
   "file_extension": ".py",
   "mimetype": "text/x-python",
   "name": "python",
   "nbconvert_exporter": "python",
   "pygments_lexer": "ipython3",
   "version": "3.12.3"
  }
 },
 "nbformat": 4,
 "nbformat_minor": 2
}
