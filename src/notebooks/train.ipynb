{
 "cells": [
  {
   "cell_type": "code",
   "execution_count": null,
   "metadata": {},
   "outputs": [],
   "source": [
    "from src.config import RANDOM_SEED, SPLIT_RATIO, MIN_VAL_TEST_PER_CLASS, CLASS_LABELS\n",
    "from dataset.splitter import DatasetSplitter\n",
    "from pathlib import Path\n",
    "import random\n",
    "from collections import defaultdict\n",
    "from typing import List, Tuple, Dict, Optional\n",
    "from pydantic import BaseModel, Field, field_validator\n",
    "from typing import Annotated"
   ]
  },
  {
   "cell_type": "code",
   "execution_count": null,
   "metadata": {},
   "outputs": [],
   "source": [
    "# 1. Собираем все пути\n",
    "current_dir = Path.cwd()\n",
    "data_dir = current_dir.parent.parent / \"data\"\n",
    "print(f\"data_dir: {data_dir}\")\n",
    "\n",
    "dataset_dir = data_dir / \"interior_dataset\"\n",
    "\n",
    "samples = []\n",
    "for class_dir in dataset_dir.iterdir():\n",
    "    if class_dir.is_dir():\n",
    "        class_name = class_dir.name\n",
    "        class_idx = CLASS_LABELS.index(class_name)\n",
    "        for img_path in class_dir.glob(\"*.jpg\"):\n",
    "            samples.append((img_path, class_idx))"
   ]
  },
  {
   "cell_type": "code",
   "execution_count": null,
   "metadata": {},
   "outputs": [],
   "source": [
    "# Создание сплиттера\n",
    "splitter = DatasetSplitter(\n",
    "    class_labels=[\"A0\", \"A1\", \"B0\", \"B1\", \"C0\", \"C1\", \"D0\", \"D1\"],\n",
    "    split_config=SPLIT_RATIO,\n",
    "    random_seed=RANDOM_SEED\n",
    ")\n",
    "\n",
    "# Разделение данных\n",
    "train_samples, val_samples, test_samples = splitter.split(samples)"
   ]
  }
 ],
 "metadata": {
  "kernelspec": {
   "display_name": "venv3.12",
   "language": "python",
   "name": "python3"
  },
  "language_info": {
   "name": "python",
   "version": "3.12.3"
  }
 },
 "nbformat": 4,
 "nbformat_minor": 2
}
