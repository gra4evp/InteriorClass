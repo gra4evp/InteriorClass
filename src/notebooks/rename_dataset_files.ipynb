{
 "cells": [
  {
   "cell_type": "code",
   "execution_count": 5,
   "metadata": {},
   "outputs": [],
   "source": [
    "from pathlib import Path\n",
    "import uuid\n",
    "from tqdm import tqdm"
   ]
  },
  {
   "cell_type": "code",
   "execution_count": 6,
   "metadata": {},
   "outputs": [],
   "source": [
    "def generate_short_uuid(length=5):\n",
    "    full_uuid = uuid.uuid4().hex  # Полный UUID в виде hex-строки (32 символа)\n",
    "    return full_uuid[:length]"
   ]
  },
  {
   "cell_type": "code",
   "execution_count": 8,
   "metadata": {},
   "outputs": [],
   "source": [
    "def rename_files_in_dir(\n",
    "        input_dir: Path,\n",
    "        prefix: str = '',\n",
    "        starting_number: int = 0,\n",
    "        uuid_length: int = 4,\n",
    "        num_zeros: int = 5,\n",
    "        extensions: tuple = (\".jpg\", \".png\", \".jpeg\")\n",
    "    ) -> int:\n",
    "    \"\"\"\n",
    "    Renames files in a directory by adding a prefix, sequential number, and UUID while preserving original extensions.\n",
    "    \n",
    "    Args:\n",
    "        input_dir: Directory containing files to rename (Path object)\n",
    "        prefix: Optional prefix for new filenames (default: '')\n",
    "        starting_number: Starting index for sequential numbering (default: 0)\n",
    "        uuid_length: Length of UUID portion in filename (default: 4)\n",
    "        num_zeros: Number of leading zeros in sequential number (default: 5)\n",
    "        extensions: Tuple of file extensions to process (default: ('.jpg', '.png', '.jpeg'))\n",
    "    \n",
    "    Returns:\n",
    "        Number of successfully renamed files\n",
    "    \n",
    "    Raises:\n",
    "        ValueError: If input_dir is not a valid directory\n",
    "    \"\"\"\n",
    "    if not input_dir.is_dir():\n",
    "        raise ValueError(f\"{input_dir} is not a valid directory\")\n",
    "    \n",
    "    renamed = 0\n",
    "    files = [f for f in input_dir.iterdir() if f.suffix.lower() in extensions]\n",
    "    \n",
    "    for idx, file in tqdm(enumerate(files, start=starting_number), desc=\"Renaming files\"):\n",
    "        file_uuid = generate_short_uuid(length=uuid_length)\n",
    "\n",
    "        # Format the number with the specified number of zeros\n",
    "        new_filename = f\"{prefix}_{idx:0{num_zeros}d}_{file_uuid}{file.suffix}\"\n",
    "        file.rename(input_dir / new_filename)\n",
    "        renamed += 1\n",
    "    \n",
    "    return renamed\n"
   ]
  },
  {
   "cell_type": "code",
   "execution_count": 9,
   "metadata": {},
   "outputs": [
    {
     "name": "stdout",
     "output_type": "stream",
     "text": [
      "data_dir: /home/little-garden/CodeProjects/InteriorClass/data\n"
     ]
    },
    {
     "name": "stderr",
     "output_type": "stream",
     "text": [
      "Renaming files: 15169it [00:00, 50944.45it/s]\n",
      "Renaming files: 385it [00:00, 45042.18it/s]\n",
      "Renaming files: 1139it [00:00, 43393.82it/s]\n",
      "Renaming files: 23377it [00:00, 53110.37it/s]\n",
      "Renaming files: 782it [00:00, 51475.16it/s]\n",
      "Renaming files: 2199it [00:00, 46407.11it/s]\n",
      "Renaming files: 7264it [00:00, 51996.89it/s]\n",
      "Renaming files: 4302it [00:00, 53913.23it/s]"
     ]
    },
    {
     "name": "stdout",
     "output_type": "stream",
     "text": [
      "Total renamed files: 54617\n"
     ]
    },
    {
     "name": "stderr",
     "output_type": "stream",
     "text": [
      "\n"
     ]
    }
   ],
   "source": [
    "current_dir = Path.cwd()\n",
    "data_dir = current_dir.parent.parent / \"data\"\n",
    "print(f\"data_dir: {data_dir}\")\n",
    "\n",
    "dataset_dir = data_dir / \"interior_dataset\"\n",
    "total_renamed = 0\n",
    "for path in sorted(dataset_dir.iterdir()):\n",
    "    total_renamed += rename_files_in_dir(input_dir=path, prefix=path.name)\n",
    "print(f\"Total renamed files: {total_renamed}\")"
   ]
  },
  {
   "cell_type": "code",
   "execution_count": 7,
   "metadata": {},
   "outputs": [
    {
     "name": "stderr",
     "output_type": "stream",
     "text": [
      "294it [00:00, 43322.28it/s]\n"
     ]
    },
    {
     "data": {
      "text/plain": [
       "294"
      ]
     },
     "execution_count": 7,
     "metadata": {},
     "output_type": "execute_result"
    }
   ],
   "source": [
    "rename_files_in_dir(input_dir=interior_dataset / \"A1\")"
   ]
  }
 ],
 "metadata": {
  "kernelspec": {
   "display_name": "venv3.12",
   "language": "python",
   "name": "python3"
  },
  "language_info": {
   "codemirror_mode": {
    "name": "ipython",
    "version": 3
   },
   "file_extension": ".py",
   "mimetype": "text/x-python",
   "name": "python",
   "nbconvert_exporter": "python",
   "pygments_lexer": "ipython3",
   "version": "3.12.3"
  }
 },
 "nbformat": 4,
 "nbformat_minor": 2
}
