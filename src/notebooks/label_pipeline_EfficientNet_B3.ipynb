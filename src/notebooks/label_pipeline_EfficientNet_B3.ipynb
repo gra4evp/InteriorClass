{
 "cells": [
  {
   "cell_type": "code",
   "execution_count": 1,
   "metadata": {},
   "outputs": [],
   "source": [
    "from pathlib import Path\n",
    "import sys\n",
    "import json\n",
    "import shutil\n",
    "\n",
    "# Поднимаемся на два уровня вверх (из notebooks/ в InteriorClass/)\n",
    "project_root = Path.cwd().parent.parent\n",
    "sys.path.append(str(project_root))  # Теперь Python увидит src/\n",
    "\n",
    "from src.config import RANDOM_SEED, SPLIT_RATIO, MIN_VAL_TEST_PER_CLASS, CLASS_LABELS\n",
    "from src.dataset.splitter import DatasetSplitter\n",
    "from src.dataset.interior_dataset import InteriorDataset, get_transforms\n",
    "from src.models.interior_classifier_EfficientNet_B3 import InteriorClassifier\n",
    "from tqdm import tqdm\n",
    "import torch\n",
    "from torch import nn, optim\n",
    "from torch.utils.data import DataLoader\n",
    "from sklearn.metrics import classification_report\n",
    "import torchvision.transforms as transforms\n",
    "from PIL import Image"
   ]
  },
  {
   "cell_type": "code",
   "execution_count": 2,
   "metadata": {},
   "outputs": [
    {
     "name": "stdout",
     "output_type": "stream",
     "text": [
      "data_dir: /home/little-garden/CodeProjects/InteriorClass/data\n"
     ]
    }
   ],
   "source": [
    "# 1. Собираем все пути\n",
    "current_dir = Path.cwd()\n",
    "root_project = current_dir.parent.parent\n",
    "data_dir = root_project / \"data\"\n",
    "print(f\"data_dir: {data_dir}\")\n",
    "\n",
    "dataset_dir = data_dir / \"interior_dataset\"\n",
    "cian_data_dir = data_dir / \"cian_data\"\n",
    "exp_dir = root_project / Path(\"experiments/exp001_baseline/results\")\n",
    "checkpoint_path = exp_dir / \"best_model.pth\""
   ]
  },
  {
   "cell_type": "code",
   "execution_count": 3,
   "metadata": {},
   "outputs": [],
   "source": [
    "def prepare_image(image_path, img_size=(224, 224)):\n",
    "    # Трансформы должны быть такими же, как при обучении!\n",
    "    transform = transforms.Compose([\n",
    "        transforms.Resize(img_size),\n",
    "        transforms.ToTensor(),\n",
    "        transforms.Normalize(mean=[0.485, 0.456, 0.406], std=[0.229, 0.224, 0.225])\n",
    "    ])\n",
    "    \n",
    "    img = Image.open(image_path).convert(\"RGB\")  # Обязательно конвертируем в RGB\n",
    "    return transform(img).unsqueeze(0)  # Добавляем batch-размерность"
   ]
  },
  {
   "cell_type": "code",
   "execution_count": 4,
   "metadata": {},
   "outputs": [
    {
     "name": "stderr",
     "output_type": "stream",
     "text": [
      "Processing A0_trash: 100%|██████████| 33690/33690 [01:24<00:00, 397.52it/s]\n",
      "Processing A0_uncertain: 100%|██████████| 59243/59243 [02:37<00:00, 376.95it/s]\n",
      "Processing A1: 100%|██████████| 260/260 [00:00<00:00, 303.00it/s]\n",
      "Processing A1_confident: 100%|██████████| 48/48 [00:00<00:00, 282.94it/s]\n",
      "Processing A1_unknown: 100%|██████████| 2575/2575 [00:07<00:00, 364.69it/s]\n",
      "Processing B1_trash: 100%|██████████| 6057/6057 [00:19<00:00, 317.71it/s]\n",
      "Processing B1_uncertain: 100%|██████████| 55018/55018 [02:29<00:00, 369.20it/s]\n",
      "Processing C1: 100%|██████████| 133/133 [00:00<00:00, 371.78it/s]\n",
      "Processing D0_trash: 100%|██████████| 7831/7831 [00:22<00:00, 341.60it/s]\n",
      "Processing D0_uncertain: 100%|██████████| 101830/101830 [04:39<00:00, 363.92it/s]\n",
      "Processing D1_trash: 100%|██████████| 6164/6164 [00:18<00:00, 341.32it/s]\n",
      "Processing D1_uncertain: 100%|██████████| 92141/92141 [04:12<00:00, 364.90it/s]\n"
     ]
    }
   ],
   "source": [
    "device = torch.device(\"cuda\" if torch.cuda.is_available() else \"cpu\")\n",
    "model = InteriorClassifier(num_classes=len(InteriorDataset.CLASSES)).to(device)\n",
    "\n",
    "checkpoint = torch.load(checkpoint_path)\n",
    "model.load_state_dict(checkpoint['model_state_dict'])\n",
    "\n",
    "# Применение модели для полуавтоматической разметки на оставшемся датасете циана\n",
    "batch_size = 64\n",
    "model.eval()\n",
    "for folder in sorted(cian_data_dir.iterdir()):\n",
    "    with torch.no_grad():  # Отключаем вычисление градиентов\n",
    "        batch = []\n",
    "        image_paths = []  # Сохраняем пути к изображениям для текущего батча\n",
    "        for image_path in tqdm(sorted(folder.iterdir()), desc=f\"Processing {folder.name}\"):\n",
    "            \n",
    "            if not image_path.is_file():\n",
    "                continue\n",
    "\n",
    "            # Подготавливаем изображение и добавляем в батч\n",
    "            # Получаем изображение в формате [1, C, H, W]\n",
    "            image = prepare_image(image_path).to(device)\n",
    "            batch.append(image)\n",
    "            image_paths.append(image_path)\n",
    "            \n",
    "            # Когда набрали полный батч - обрабатываем\n",
    "            if len(batch) >= batch_size:\n",
    "                # Объединяем все тензоры [1, C, H, W] в один [B, C, H, W]\n",
    "                batch_tensor = torch.cat(batch, dim=0)\n",
    "\n",
    "                # Получаем предсказания\n",
    "                outputs = model(batch_tensor)\n",
    "                probabilities = torch.nn.functional.softmax(outputs, dim=1)\n",
    "                confidences, class_idxs = torch.max(probabilities, dim=1)\n",
    "                \n",
    "                # Обрабатываем каждый элемент батча\n",
    "                for img_path, confidence, class_idx in zip(image_paths, confidences, class_idxs):\n",
    "                    confidence = confidence.item()\n",
    "                    class_idx = class_idx.item()\n",
    "                    \n",
    "                    if confidence >= 0.85:\n",
    "                        class_label = InteriorDataset.CLASSES[class_idx]\n",
    "                        target_dir = folder / f\"{class_label}_conf085\"\n",
    "                        target_dir.mkdir(exist_ok=True)\n",
    "                        \n",
    "                        # Формируем целевой путь\n",
    "                        target_path = target_dir / img_path.name\n",
    "                        \n",
    "                        # Перемещаем файл\n",
    "                        shutil.move(str(img_path), str(target_path))\n",
    "                \n",
    "                # Очищаем батч для следующих изображений\n",
    "                batch = []\n",
    "                image_paths = []\n",
    "        \n",
    "        # Обработка оставшихся изображений (неполный батч)\n",
    "        if batch:\n",
    "            # Объединяем все тензоры [1, C, H, W] в один [B, C, H, W]\n",
    "            batch_tensor = torch.cat(batch, dim=0)\n",
    "\n",
    "            outputs = model(batch_tensor)\n",
    "            probabilities = torch.nn.functional.softmax(outputs, dim=1)\n",
    "            confidences, class_idxs = torch.max(probabilities, dim=1)\n",
    "            \n",
    "            for img_path, confidence, class_idx in zip(image_paths, confidences, class_idxs):\n",
    "                confidence = confidence.item()\n",
    "                class_idx = class_idx.item()\n",
    "                \n",
    "                if confidence >= 0.85:\n",
    "                    class_label = InteriorDataset.CLASSES[class_idx]\n",
    "                    target_dir = folder / f\"{class_label}_conf085\"\n",
    "                    target_dir.mkdir(exist_ok=True)\n",
    "                    \n",
    "                    target_path = target_dir / img_path.name\n",
    "                    shutil.move(str(img_path), str(target_path))"
   ]
  }
 ],
 "metadata": {
  "kernelspec": {
   "display_name": "venv3.12",
   "language": "python",
   "name": "python3"
  },
  "language_info": {
   "codemirror_mode": {
    "name": "ipython",
    "version": 3
   },
   "file_extension": ".py",
   "mimetype": "text/x-python",
   "name": "python",
   "nbconvert_exporter": "python",
   "pygments_lexer": "ipython3",
   "version": "3.12.3"
  }
 },
 "nbformat": 4,
 "nbformat_minor": 2
}
