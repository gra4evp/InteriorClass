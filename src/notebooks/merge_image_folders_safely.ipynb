{
 "cells": [
  {
   "cell_type": "code",
   "execution_count": null,
   "metadata": {},
   "outputs": [],
   "source": [
    "from pathlib import Path\n",
    "import shutil\n",
    "import random"
   ]
  },
  {
   "cell_type": "code",
   "execution_count": null,
   "metadata": {},
   "outputs": [],
   "source": [
    "def add_unique_suffix(filename):\n",
    "    \"\"\"Добавляет к имени файла короткий уникальный суффикс\"\"\"\n",
    "    stem = filename.stem\n",
    "    suffix = f\"_{random.randint(0, 0xFFFF):04x}\"  # 4 hex цифры\n",
    "    return f\"{stem}{suffix}{filename.suffix}\"\n",
    "\n",
    "def normalize_number(filename):\n",
    "    \"\"\"Нормализует номер в имени файла, добавляя ведущие нули\"\"\"\n",
    "    stem = filename.stem.split('_')[0]  # Убираем существующий суффикс если есть\n",
    "    try:\n",
    "        num = int(stem)\n",
    "        return f\"{num:06d}\"  # 6 цифр с ведущими нулями\n",
    "    except ValueError:\n",
    "        return stem\n",
    "\n",
    "def process_directory(directory, target_dir, prefix=''):\n",
    "    \"\"\"Обрабатывает все файлы в директории\"\"\"\n",
    "    for file in directory.glob('*.jpg'):\n",
    "        # Нормализуем номер и добавляем уникальный суффикс\n",
    "        normalized_num = normalize_number(file)\n",
    "        new_name = f\"{prefix}{normalized_num}_{random.randint(0, 0xFFFF):04x}.jpg\"\n",
    "        shutil.move(str(file), str(target_dir / new_name))"
   ]
  },
  {
   "cell_type": "code",
   "execution_count": null,
   "metadata": {},
   "outputs": [],
   "source": [
    "# Пути к папкам\n",
    "source_dir = Path(\"B0_misslabel\")\n",
    "target_dir = Path(\"C0\")\n",
    "\n",
    "# Создаем целевую папку если её нет\n",
    "target_dir.mkdir(exist_ok=True)\n",
    "\n",
    "# Сначала обрабатываем целевую папку (добавляем суффиксы к существующим файлам)\n",
    "process_directory(target_dir, target_dir, prefix='c_')\n",
    "\n",
    "# Затем обрабатываем исходную папку\n",
    "process_directory(source_dir, target_dir, prefix='b_')\n",
    "\n",
    "print(\"Файлы успешно объединены с уникальными именами!\")"
   ]
  }
 ],
 "metadata": {
  "kernelspec": {
   "display_name": "venv3.12",
   "language": "python",
   "name": "python3"
  },
  "language_info": {
   "name": "python",
   "version": "3.12.3"
  }
 },
 "nbformat": 4,
 "nbformat_minor": 2
}
