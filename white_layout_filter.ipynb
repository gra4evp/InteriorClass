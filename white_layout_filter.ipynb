{
 "cells": [
  {
   "cell_type": "code",
   "execution_count": 1,
   "metadata": {},
   "outputs": [],
   "source": [
    "from pathlib import Path\n",
    "import shutil\n",
    "from PIL import Image\n",
    "import numpy as np\n",
    "from tqdm import tqdm"
   ]
  },
  {
   "cell_type": "code",
   "execution_count": 2,
   "metadata": {},
   "outputs": [],
   "source": [
    "def is_white_layout(\n",
    "    image: Image.Image,\n",
    "    brightness_threshold: int = 230,\n",
    "    white_pixel_ratio: float = 0.9,\n",
    ") -> bool:\n",
    "    \"\"\"\n",
    "    Проверяет, является ли изображение \"белой\" планировкой квартиры.\n",
    "    \n",
    "    Параметры:\n",
    "    - image: изображение в формате PIL.Image\n",
    "    - brightness_threshold: порог яркости для \"белого\" пикселя (0-255)\n",
    "    - white_pixel_ratio: минимальная доля белых пикселей\n",
    "    \n",
    "    Возвращает:\n",
    "    - True, если изображение соответствует критериям \"белой\" планировки\n",
    "    \"\"\"\n",
    "    img_array = np.array(image.convert(\"L\"))  # Конвертируем в grayscale и NumPy-массив\n",
    "    \n",
    "    mean_brightness = np.mean(img_array)\n",
    "    white_pixels = np.sum(img_array >= brightness_threshold)\n",
    "    white_ratio = white_pixels / img_array.size\n",
    "    \n",
    "    return (mean_brightness >= brightness_threshold) or (white_ratio >= white_pixel_ratio)"
   ]
  },
  {
   "cell_type": "code",
   "execution_count": 3,
   "metadata": {},
   "outputs": [],
   "source": [
    "def filter_white_layouts(\n",
    "    data_dir: str | Path,\n",
    "    output_dir: str | Path,\n",
    "    brightness_threshold: int = 230,\n",
    "    white_pixel_ratio: float = 0.9,\n",
    ") -> int:\n",
    "    \"\"\"\n",
    "    Фильтрует изображения в папке `data_dir` и сохраняет \"белые\" планировки в `output_dir`.\n",
    "    \n",
    "    Параметры:\n",
    "    - data_dir: путь к папке с изображениями (str или Path)\n",
    "    - output_dir: путь к папке для сохранения (str или Path)\n",
    "    - brightness_threshold, white_pixel_ratio: параметры фильтрации\n",
    "    \"\"\"\n",
    "    data_path = Path(data_dir)\n",
    "    output_path = Path(output_dir)\n",
    "    output_path.mkdir(exist_ok=True, parents=True)\n",
    "\n",
    "    move_counter = 0\n",
    "    # Получаем список всех изображений заранее для прогресс-бара\n",
    "    image_paths = [p for p in data_path.glob(\"*.*\") if p.suffix.lower() in ('.png', '.jpg', '.jpeg')]\n",
    "    for img_path in tqdm(image_paths, desc=\"Обработка изображений\"):\n",
    "        if img_path.suffix.lower() not in ('.png', '.jpg', '.jpeg'):\n",
    "            continue\n",
    "        \n",
    "        try:\n",
    "            with Image.open(img_path) as img:\n",
    "                if is_white_layout(img, brightness_threshold, white_pixel_ratio):\n",
    "                    shutil.move(img_path, output_dir)\n",
    "                    move_counter += 1\n",
    "        except Exception as e:\n",
    "            print(f\"Ошибка при обработке {img_path.name}: {e}\")\n",
    "    return move_counter"
   ]
  },
  {
   "cell_type": "code",
   "execution_count": 4,
   "metadata": {},
   "outputs": [
    {
     "name": "stdout",
     "output_type": "stream",
     "text": [
      "Директория: /home/little-garden/CodeProjects/InteriorClass\n",
      "/home/little-garden/CodeProjects/InteriorClass/data/yandex_data/B0.json\n"
     ]
    },
    {
     "name": "stderr",
     "output_type": "stream",
     "text": [
      "Обработка изображений: 0it [00:00, ?it/s]\n"
     ]
    },
    {
     "name": "stdout",
     "output_type": "stream",
     "text": [
      "Перемещено файлов: 0\n",
      "/home/little-garden/CodeProjects/InteriorClass/data/yandex_data/C0.json\n"
     ]
    },
    {
     "name": "stderr",
     "output_type": "stream",
     "text": [
      "Обработка изображений: 0it [00:00, ?it/s]\n"
     ]
    },
    {
     "name": "stdout",
     "output_type": "stream",
     "text": [
      "Перемещено файлов: 0\n",
      "/home/little-garden/CodeProjects/InteriorClass/data/yandex_data/A1\n"
     ]
    },
    {
     "name": "stderr",
     "output_type": "stream",
     "text": [
      "Обработка изображений:   0%|          | 0/849 [00:00<?, ?it/s]/home/little-garden/CodeProjects/InteriorClass/venv3.12/lib/python3.12/site-packages/PIL/Image.py:3570: UserWarning: image file could not be identified because AVIF support not installed\n",
      "  warnings.warn(message)\n",
      "Обработка изображений:   1%|▏         | 12/849 [00:00<00:07, 106.34it/s]"
     ]
    },
    {
     "name": "stdout",
     "output_type": "stream",
     "text": [
      "Ошибка при обработке 646.jpg: cannot identify image file '/home/little-garden/CodeProjects/InteriorClass/data/yandex_data/A1/646.jpg'\n"
     ]
    },
    {
     "name": "stderr",
     "output_type": "stream",
     "text": [
      "Обработка изображений:  48%|████▊     | 406/849 [00:03<00:04, 103.99it/s]"
     ]
    },
    {
     "name": "stdout",
     "output_type": "stream",
     "text": [
      "Ошибка при обработке 789.jpg: cannot identify image file '/home/little-garden/CodeProjects/InteriorClass/data/yandex_data/A1/789.jpg'\n"
     ]
    },
    {
     "name": "stderr",
     "output_type": "stream",
     "text": [
      "Обработка изображений: 100%|██████████| 849/849 [00:08<00:00, 98.57it/s] \n"
     ]
    },
    {
     "name": "stdout",
     "output_type": "stream",
     "text": [
      "Ошибка при обработке 688.jpg: cannot identify image file '/home/little-garden/CodeProjects/InteriorClass/data/yandex_data/A1/688.jpg'\n",
      "Перемещено файлов: 5\n",
      "/home/little-garden/CodeProjects/InteriorClass/data/yandex_data/C1.json\n"
     ]
    },
    {
     "name": "stderr",
     "output_type": "stream",
     "text": [
      "Обработка изображений: 0it [00:00, ?it/s]\n"
     ]
    },
    {
     "name": "stdout",
     "output_type": "stream",
     "text": [
      "Перемещено файлов: 0\n",
      "/home/little-garden/CodeProjects/InteriorClass/data/yandex_data/C1\n"
     ]
    },
    {
     "name": "stderr",
     "output_type": "stream",
     "text": [
      "Обработка изображений:  18%|█▊        | 159/876 [00:01<00:06, 106.27it/s]"
     ]
    },
    {
     "name": "stdout",
     "output_type": "stream",
     "text": [
      "Ошибка при обработке 655.jpg: cannot identify image file '/home/little-garden/CodeProjects/InteriorClass/data/yandex_data/C1/655.jpg'\n",
      "Ошибка при обработке 307.jpg: cannot identify image file '/home/little-garden/CodeProjects/InteriorClass/data/yandex_data/C1/307.jpg'\n"
     ]
    },
    {
     "name": "stderr",
     "output_type": "stream",
     "text": [
      "Обработка изображений: 100%|██████████| 876/876 [00:09<00:00, 94.98it/s] \n"
     ]
    },
    {
     "name": "stdout",
     "output_type": "stream",
     "text": [
      "Перемещено файлов: 1\n",
      "/home/little-garden/CodeProjects/InteriorClass/data/yandex_data/A1.json\n"
     ]
    },
    {
     "name": "stderr",
     "output_type": "stream",
     "text": [
      "Обработка изображений: 0it [00:00, ?it/s]\n"
     ]
    },
    {
     "name": "stdout",
     "output_type": "stream",
     "text": [
      "Перемещено файлов: 0\n",
      "/home/little-garden/CodeProjects/InteriorClass/data/yandex_data/B0\n"
     ]
    },
    {
     "name": "stderr",
     "output_type": "stream",
     "text": [
      "Обработка изображений:  46%|████▌     | 169/366 [00:01<00:01, 146.69it/s]"
     ]
    },
    {
     "name": "stdout",
     "output_type": "stream",
     "text": [
      "Ошибка при обработке 556.jpg: cannot identify image file '/home/little-garden/CodeProjects/InteriorClass/data/yandex_data/B0/556.jpg'\n"
     ]
    },
    {
     "name": "stderr",
     "output_type": "stream",
     "text": [
      "Обработка изображений: 100%|██████████| 366/366 [00:02<00:00, 149.21it/s]\n"
     ]
    },
    {
     "name": "stdout",
     "output_type": "stream",
     "text": [
      "Перемещено файлов: 11\n",
      "/home/little-garden/CodeProjects/InteriorClass/data/yandex_data/B0_uncertain\n"
     ]
    },
    {
     "name": "stderr",
     "output_type": "stream",
     "text": [
      "Обработка изображений: 100%|██████████| 447/447 [00:03<00:00, 141.38it/s]\n"
     ]
    },
    {
     "name": "stdout",
     "output_type": "stream",
     "text": [
      "Перемещено файлов: 5\n",
      "/home/little-garden/CodeProjects/InteriorClass/data/yandex_data/C0\n"
     ]
    },
    {
     "name": "stderr",
     "output_type": "stream",
     "text": [
      "Обработка изображений:   8%|▊         | 67/870 [00:00<00:05, 143.93it/s]"
     ]
    },
    {
     "name": "stdout",
     "output_type": "stream",
     "text": [
      "Ошибка при обработке 872.jpg: cannot identify image file '/home/little-garden/CodeProjects/InteriorClass/data/yandex_data/C0/872.jpg'\n"
     ]
    },
    {
     "name": "stderr",
     "output_type": "stream",
     "text": [
      "Обработка изображений:  40%|████      | 352/870 [00:02<00:03, 129.64it/s]"
     ]
    },
    {
     "name": "stdout",
     "output_type": "stream",
     "text": [
      "Ошибка при обработке 109.jpg: Destination path '/home/little-garden/CodeProjects/InteriorClass/data/floor_plans/109.jpg' already exists\n"
     ]
    },
    {
     "name": "stderr",
     "output_type": "stream",
     "text": [
      "Обработка изображений: 100%|██████████| 870/870 [00:05<00:00, 147.05it/s]\n"
     ]
    },
    {
     "name": "stdout",
     "output_type": "stream",
     "text": [
      "Ошибка при обработке 30.jpg: Destination path '/home/little-garden/CodeProjects/InteriorClass/data/floor_plans/30.jpg' already exists\n",
      "Перемещено файлов: 6\n",
      "/home/little-garden/CodeProjects/InteriorClass/data/yandex_data/A0.json\n"
     ]
    },
    {
     "name": "stderr",
     "output_type": "stream",
     "text": [
      "Обработка изображений: 0it [00:00, ?it/s]\n"
     ]
    },
    {
     "name": "stdout",
     "output_type": "stream",
     "text": [
      "Перемещено файлов: 0\n",
      "/home/little-garden/CodeProjects/InteriorClass/data/yandex_data/A0\n"
     ]
    },
    {
     "name": "stderr",
     "output_type": "stream",
     "text": [
      "Обработка изображений:  17%|█▋        | 76/436 [00:00<00:02, 155.37it/s]/home/little-garden/CodeProjects/InteriorClass/venv3.12/lib/python3.12/site-packages/PIL/Image.py:1043: UserWarning: Palette images with Transparency expressed in bytes should be converted to RGBA images\n",
      "  warnings.warn(\n",
      "Обработка изображений: 100%|██████████| 436/436 [00:02<00:00, 146.98it/s]"
     ]
    },
    {
     "name": "stdout",
     "output_type": "stream",
     "text": [
      "Перемещено файлов: 0\n"
     ]
    },
    {
     "name": "stderr",
     "output_type": "stream",
     "text": [
      "\n"
     ]
    }
   ],
   "source": [
    "current_dir = Path.cwd()\n",
    "print(f\"Директория: {current_dir}\")\n",
    "data_dir = current_dir / \"data\"\n",
    "cian_data_dir = data_dir / \"yandex_data\"\n",
    "output_data_dir = data_dir / \"floor_plans\"\n",
    "\n",
    "for dirname in cian_data_dir.iterdir():\n",
    "    print(dirname)\n",
    "    move_counter = filter_white_layouts(\n",
    "        data_dir=dirname,\n",
    "        output_dir=output_data_dir,\n",
    "        brightness_threshold=220,\n",
    "        white_pixel_ratio=0.86\n",
    "    )\n",
    "    print(f\"Перемещено файлов: {move_counter}\")"
   ]
  },
  {
   "cell_type": "code",
   "execution_count": null,
   "metadata": {},
   "outputs": [],
   "source": [
    "image = Image.open(\"/home/little-garden/CodeProjects/InteriorClass/data/cian_data/A0/kvartira-moskva-minskaya-ulica-2405225048-4.jpg\")\n",
    "is_white_layout(image)"
   ]
  },
  {
   "cell_type": "code",
   "execution_count": null,
   "metadata": {},
   "outputs": [],
   "source": [
    "# Пример использования\n",
    "data_dir = \"data_dir\"  # Папка с исходными изображениями (можно передать как Path)\n",
    "output_dir = \"white_layouts\"  # Папка для \"белых\" планировок\n",
    "filter_white_layouts(data_dir, output_dir)"
   ]
  }
 ],
 "metadata": {
  "kernelspec": {
   "display_name": "venv3.12",
   "language": "python",
   "name": "python3"
  },
  "language_info": {
   "codemirror_mode": {
    "name": "ipython",
    "version": 3
   },
   "file_extension": ".py",
   "mimetype": "text/x-python",
   "name": "python",
   "nbconvert_exporter": "python",
   "pygments_lexer": "ipython3",
   "version": "3.12.3"
  }
 },
 "nbformat": 4,
 "nbformat_minor": 2
}
