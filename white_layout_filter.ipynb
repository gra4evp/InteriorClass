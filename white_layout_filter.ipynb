{
 "cells": [
  {
   "cell_type": "code",
   "execution_count": 25,
   "metadata": {},
   "outputs": [],
   "source": [
    "from pathlib import Path\n",
    "import shutil\n",
    "from PIL import Image\n",
    "import numpy as np\n",
    "from tqdm import tqdm"
   ]
  },
  {
   "cell_type": "code",
   "execution_count": 26,
   "metadata": {},
   "outputs": [],
   "source": [
    "def is_white_layout(\n",
    "    image: Image.Image,\n",
    "    brightness_threshold: int = 230,\n",
    "    white_pixel_ratio: float = 0.9,\n",
    ") -> bool:\n",
    "    \"\"\"\n",
    "    Проверяет, является ли изображение \"белой\" планировкой квартиры.\n",
    "    \n",
    "    Параметры:\n",
    "    - image: изображение в формате PIL.Image\n",
    "    - brightness_threshold: порог яркости для \"белого\" пикселя (0-255)\n",
    "    - white_pixel_ratio: минимальная доля белых пикселей\n",
    "    \n",
    "    Возвращает:\n",
    "    - True, если изображение соответствует критериям \"белой\" планировки\n",
    "    \"\"\"\n",
    "    img_array = np.array(image.convert(\"L\"))  # Конвертируем в grayscale и NumPy-массив\n",
    "    \n",
    "    mean_brightness = np.mean(img_array)\n",
    "    white_pixels = np.sum(img_array >= brightness_threshold)\n",
    "    white_ratio = white_pixels / img_array.size\n",
    "    \n",
    "    return (mean_brightness >= brightness_threshold) or (white_ratio >= white_pixel_ratio)"
   ]
  },
  {
   "cell_type": "code",
   "execution_count": 27,
   "metadata": {},
   "outputs": [],
   "source": [
    "def filter_white_layouts(\n",
    "    data_dir: str | Path,\n",
    "    output_dir: str | Path,\n",
    "    brightness_threshold: int = 230,\n",
    "    white_pixel_ratio: float = 0.9,\n",
    ") -> int:\n",
    "    \"\"\"\n",
    "    Фильтрует изображения в папке `data_dir` и сохраняет \"белые\" планировки в `output_dir`.\n",
    "    \n",
    "    Параметры:\n",
    "    - data_dir: путь к папке с изображениями (str или Path)\n",
    "    - output_dir: путь к папке для сохранения (str или Path)\n",
    "    - brightness_threshold, white_pixel_ratio: параметры фильтрации\n",
    "    \"\"\"\n",
    "    data_path = Path(data_dir)\n",
    "    output_path = Path(output_dir)\n",
    "    output_path.mkdir(exist_ok=True, parents=True)\n",
    "\n",
    "    move_counter = 0\n",
    "    # Получаем список всех изображений заранее для прогресс-бара\n",
    "    image_paths = [p for p in data_path.glob(\"*.*\") if p.suffix.lower() in ('.png', '.jpg', '.jpeg')]\n",
    "    for img_path in tqdm(image_paths, desc=\"Обработка изображений\"):\n",
    "        if img_path.suffix.lower() not in ('.png', '.jpg', '.jpeg'):\n",
    "            continue\n",
    "        \n",
    "        try:\n",
    "            with Image.open(img_path) as img:\n",
    "                if is_white_layout(img, brightness_threshold, white_pixel_ratio):\n",
    "                    shutil.move(img_path, output_dir)\n",
    "                    move_counter += 1\n",
    "        except Exception as e:\n",
    "            print(f\"Ошибка при обработке {img_path.name}: {e}\")\n",
    "    return move_counter"
   ]
  },
  {
   "cell_type": "code",
   "execution_count": 29,
   "metadata": {},
   "outputs": [
    {
     "name": "stdout",
     "output_type": "stream",
     "text": [
      "Директория: /home/little-garden/CodeProjects/InteriorClass\n",
      "/home/little-garden/CodeProjects/InteriorClass/data/cian_data/A0_uncertain\n"
     ]
    },
    {
     "name": "stderr",
     "output_type": "stream",
     "text": [
      "Обработка изображений: 100%|██████████| 37820/37820 [00:31<00:00, 1187.84it/s]\n"
     ]
    },
    {
     "name": "stdout",
     "output_type": "stream",
     "text": [
      "Перемещено файлов: 253\n",
      "/home/little-garden/CodeProjects/InteriorClass/data/cian_data/D0\n"
     ]
    },
    {
     "name": "stderr",
     "output_type": "stream",
     "text": [
      "Обработка изображений: 100%|██████████| 114399/114399 [01:28<00:00, 1299.71it/s]\n"
     ]
    },
    {
     "name": "stdout",
     "output_type": "stream",
     "text": [
      "Перемещено файлов: 198\n",
      "/home/little-garden/CodeProjects/InteriorClass/data/cian_data/A1\n"
     ]
    },
    {
     "name": "stderr",
     "output_type": "stream",
     "text": [
      "Обработка изображений: 100%|██████████| 3043/3043 [00:02<00:00, 1263.73it/s]\n"
     ]
    },
    {
     "name": "stdout",
     "output_type": "stream",
     "text": [
      "Перемещено файлов: 12\n",
      "/home/little-garden/CodeProjects/InteriorClass/data/cian_data/D0_trash\n"
     ]
    },
    {
     "name": "stderr",
     "output_type": "stream",
     "text": [
      "Обработка изображений: 100%|██████████| 8000/8000 [00:06<00:00, 1165.13it/s]\n"
     ]
    },
    {
     "name": "stdout",
     "output_type": "stream",
     "text": [
      "Перемещено файлов: 8\n",
      "/home/little-garden/CodeProjects/InteriorClass/data/cian_data/A0_trash\n"
     ]
    },
    {
     "name": "stderr",
     "output_type": "stream",
     "text": [
      "Обработка изображений: 100%|██████████| 37734/37734 [00:33<00:00, 1132.32it/s]\n"
     ]
    },
    {
     "name": "stdout",
     "output_type": "stream",
     "text": [
      "Перемещено файлов: 4\n",
      "/home/little-garden/CodeProjects/InteriorClass/data/cian_data/B1\n"
     ]
    },
    {
     "name": "stderr",
     "output_type": "stream",
     "text": [
      "Обработка изображений: 100%|██████████| 80654/80654 [01:01<00:00, 1301.76it/s]\n"
     ]
    },
    {
     "name": "stdout",
     "output_type": "stream",
     "text": [
      "Перемещено файлов: 251\n",
      "/home/little-garden/CodeProjects/InteriorClass/data/cian_data/D1_trash\n"
     ]
    },
    {
     "name": "stderr",
     "output_type": "stream",
     "text": [
      "Обработка изображений: 100%|██████████| 6386/6386 [00:05<00:00, 1156.75it/s]\n"
     ]
    },
    {
     "name": "stdout",
     "output_type": "stream",
     "text": [
      "Перемещено файлов: 2\n",
      "/home/little-garden/CodeProjects/InteriorClass/data/cian_data/B1_trash\n"
     ]
    },
    {
     "name": "stderr",
     "output_type": "stream",
     "text": [
      "Обработка изображений: 100%|██████████| 6172/6172 [00:05<00:00, 1210.26it/s]\n"
     ]
    },
    {
     "name": "stdout",
     "output_type": "stream",
     "text": [
      "Перемещено файлов: 3\n",
      "/home/little-garden/CodeProjects/InteriorClass/data/cian_data/C1\n"
     ]
    },
    {
     "name": "stderr",
     "output_type": "stream",
     "text": [
      "Обработка изображений: 100%|██████████| 1518/1518 [00:01<00:00, 1155.66it/s]\n"
     ]
    },
    {
     "name": "stdout",
     "output_type": "stream",
     "text": [
      "Перемещено файлов: 1\n",
      "/home/little-garden/CodeProjects/InteriorClass/data/cian_data/D1\n"
     ]
    },
    {
     "name": "stderr",
     "output_type": "stream",
     "text": [
      "Обработка изображений: 100%|██████████| 99370/99370 [01:16<00:00, 1300.67it/s]\n"
     ]
    },
    {
     "name": "stdout",
     "output_type": "stream",
     "text": [
      "Перемещено файлов: 119\n",
      "/home/little-garden/CodeProjects/InteriorClass/data/cian_data/A0\n"
     ]
    },
    {
     "name": "stderr",
     "output_type": "stream",
     "text": [
      "Обработка изображений: 100%|██████████| 43212/43212 [00:33<00:00, 1279.29it/s]"
     ]
    },
    {
     "name": "stdout",
     "output_type": "stream",
     "text": [
      "Перемещено файлов: 251\n"
     ]
    },
    {
     "name": "stderr",
     "output_type": "stream",
     "text": [
      "\n"
     ]
    }
   ],
   "source": [
    "current_dir = Path.cwd()\n",
    "print(f\"Директория: {current_dir}\")\n",
    "data_dir = current_dir / \"data\"\n",
    "cian_data_dir = data_dir / \"cian_data\"\n",
    "output_data_dir = data_dir / \"floor_plans\"\n",
    "\n",
    "for dirname in cian_data_dir.iterdir():\n",
    "    print(dirname)\n",
    "    move_counter = filter_white_layouts(\n",
    "        data_dir=dirname,\n",
    "        output_dir=output_data_dir,\n",
    "        brightness_threshold=220,\n",
    "        white_pixel_ratio=0.86\n",
    "    )\n",
    "    print(f\"Перемещено файлов: {move_counter}\")"
   ]
  },
  {
   "cell_type": "code",
   "execution_count": 19,
   "metadata": {},
   "outputs": [
    {
     "name": "stdout",
     "output_type": "stream",
     "text": [
      "230 0.9\n"
     ]
    },
    {
     "data": {
      "text/plain": [
       "np.False_"
      ]
     },
     "execution_count": 19,
     "metadata": {},
     "output_type": "execute_result"
    }
   ],
   "source": [
    "image = Image.open(\"/home/little-garden/CodeProjects/InteriorClass/data/cian_data/A0/kvartira-moskva-minskaya-ulica-2405225048-4.jpg\")\n",
    "is_white_layout(image)"
   ]
  },
  {
   "cell_type": "code",
   "execution_count": null,
   "metadata": {},
   "outputs": [],
   "source": [
    "# Пример использования\n",
    "data_dir = \"data_dir\"  # Папка с исходными изображениями (можно передать как Path)\n",
    "output_dir = \"white_layouts\"  # Папка для \"белых\" планировок\n",
    "filter_white_layouts(data_dir, output_dir)"
   ]
  }
 ],
 "metadata": {
  "kernelspec": {
   "display_name": "venv3.12",
   "language": "python",
   "name": "python3"
  },
  "language_info": {
   "codemirror_mode": {
    "name": "ipython",
    "version": 3
   },
   "file_extension": ".py",
   "mimetype": "text/x-python",
   "name": "python",
   "nbconvert_exporter": "python",
   "pygments_lexer": "ipython3",
   "version": "3.12.3"
  }
 },
 "nbformat": 4,
 "nbformat_minor": 2
}
